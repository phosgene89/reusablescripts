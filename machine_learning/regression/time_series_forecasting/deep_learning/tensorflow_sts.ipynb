{
 "cells": [
  {
   "cell_type": "markdown",
   "metadata": {},
   "source": [
    "# Structured Time Series with TF Probability\n",
    "We will be using the total female births per year dataset to explore structured time series' in TFP.\n",
    "\n",
    "Example is modelled on the example from this <a href =\"https://medium.com/tensorflow/structural-time-series-modeling-in-tensorflow-probability-344edac24083\">article</a> and the associated <a href = \"https://github.com/tensorflow/probability/blob/master/tensorflow_probability/examples/jupyter_notebooks/Structural_Time_Series_Modeling_Case_Studies_Atmospheric_CO2_and_Electricity_Demand.ipynb\">code</a>."
   ]
  },
  {
   "cell_type": "code",
   "execution_count": 1,
   "metadata": {},
   "outputs": [],
   "source": [
    "import pandas as pd\n",
    "import numpy as np\n",
    "import matplotlib.pyplot as plt\n",
    "import tensorflow as tf\n",
    "import tensorflow_probability as tfp\n",
    "from tensorflow_probability import sts\n",
    "import seaborn as sns"
   ]
  },
  {
   "cell_type": "code",
   "execution_count": 2,
   "metadata": {},
   "outputs": [
    {
     "name": "stdout",
     "output_type": "stream",
     "text": [
      "SUCCESS: Found GPU: /device:GPU:0\n"
     ]
    }
   ],
   "source": [
    "if tf.test.gpu_device_name() != '/device:GPU:0':\n",
    "  print('WARNING: GPU device not found.')\n",
    "else:\n",
    "  print('SUCCESS: Found GPU: {}'.format(tf.test.gpu_device_name()))"
   ]
  },
  {
   "cell_type": "code",
   "execution_count": 3,
   "metadata": {},
   "outputs": [],
   "source": [
    "def build_model(observed_time_series):\n",
    "    \n",
    "    trend = sts.LocalLinearTrend(observed_time_series=observed_time_series)\n",
    "    seasonal = tfp.sts.Seasonal(num_seasons=12, observed_time_series=observed_time_series)\n",
    "    model = sts.Sum([trend, seasonal], observed_time_series=observed_time_series)\n",
    "    \n",
    "    return model\n",
    "\n",
    "def plot_forecast(x, y,\n",
    "                  forecast_mean, forecast_scale, forecast_samples,\n",
    "                  title, x_locator=None, x_formatter=None):\n",
    "    \"\"\"Plot a forecast distribution against the 'true' time series.\"\"\"\n",
    "    colors = sns.color_palette()\n",
    "    c1, c2 = colors[0], colors[1]\n",
    "    fig = plt.figure(figsize=(12, 6))\n",
    "    ax = fig.add_subplot(1, 1, 1)\n",
    "\n",
    "    num_steps = len(y)\n",
    "    num_steps_forecast = forecast_mean.shape[-1]\n",
    "    num_steps_train = num_steps - num_steps_forecast\n",
    "\n",
    "\n",
    "    ax.plot(x, y, lw=2, color=c1, label='ground truth')\n",
    "\n",
    "    forecast_steps = np.arange(\n",
    "        x[num_steps_train],\n",
    "        x[num_steps_train]+num_steps_forecast)\n",
    "\n",
    "    ax.plot(forecast_steps, forecast_samples.T, lw=1, color=c2, alpha=0.1)\n",
    "\n",
    "    ax.plot(forecast_steps, forecast_mean, lw=2, ls='--', color=c2,\n",
    "           label='forecast')\n",
    "    ax.fill_between(forecast_steps,\n",
    "                   forecast_mean-2*forecast_scale,\n",
    "                   forecast_mean+2*forecast_scale, color=c2, alpha=0.2)\n",
    "\n",
    "    ymin, ymax = min(np.min(forecast_samples), np.min(y)), max(np.max(forecast_samples), np.max(y))\n",
    "    yrange = ymax-ymin\n",
    "    ax.set_ylim([ymin - yrange*0.1, ymax + yrange*0.1])\n",
    "    ax.set_title(\"{}\".format(title))\n",
    "    ax.legend()\n",
    "\n",
    "    if x_locator is not None:\n",
    "        ax.xaxis.set_major_locator(x_locator)\n",
    "        ax.xaxis.set_major_formatter(x_formatter)\n",
    "        fig.autofmt_xdate()\n",
    "\n",
    "    return fig, ax"
   ]
  },
  {
   "cell_type": "code",
   "execution_count": 4,
   "metadata": {},
   "outputs": [
    {
     "name": "stdout",
     "output_type": "stream",
     "text": [
      "         Date  Births\n",
      "0  1959-01-01      35\n",
      "1  1959-01-02      32\n",
      "2  1959-01-03      30\n",
      "3  1959-01-04      31\n",
      "4  1959-01-05      44\n"
     ]
    }
   ],
   "source": [
    "filepath = \"/media/greg/Storage/datasets/time_series/daily_total_female_births/daily-total-female-births.csv\"\n",
    "df = pd.read_csv(filepath)\n",
    "\n",
    "print(df.head())"
   ]
  },
  {
   "cell_type": "code",
   "execution_count": 5,
   "metadata": {},
   "outputs": [
    {
     "name": "stdout",
     "output_type": "stream",
     "text": [
      "WARNING:tensorflow:From /home/greg/Desktop/virtual_environments/standard_env/lib/python3.6/site-packages/tensorflow_probability/python/sts/fitting.py:185: SeedStream.__init__ (from tensorflow_probability.python.util.seed_stream) is deprecated and will be removed after 2019-10-01.\n",
      "Instructions for updating:\n",
      "SeedStream has moved to `tfp.util.SeedStream`.\n"
     ]
    }
   ],
   "source": [
    "t = np.linspace(0,1000, 10000)\n",
    "births_ts = np.sin(t) + np.random.normal(0,1,10000) # df.Births.astype(np.float) # TFP requires us to work with floats.\n",
    "birth_dates = np.arange(10000) #df.Date.values\n",
    "\n",
    "model = build_model(births_ts)\n",
    "\n",
    "# Build the variational surrogate posteriors `qs`.\n",
    "variational_posteriors = tfp.sts.build_factored_surrogate_posterior(\n",
    "    model=model)"
   ]
  },
  {
   "cell_type": "code",
   "execution_count": null,
   "metadata": {},
   "outputs": [],
   "source": [
    "#@title Minimize the variational loss.\n",
    "\n",
    "# Allow external control of optimization to reduce test runtimes.\n",
    "num_variational_steps = 200 # @param { isTemplate: true}\n",
    "num_variational_steps = int(num_variational_steps)\n",
    "\n",
    "optimizer = tf.optimizers.Adam(learning_rate=.1)\n",
    "# Using fit_surrogate_posterior to build and optimize the variational loss function.\n",
    "def train():\n",
    "  elbo_loss_curve = tfp.vi.fit_surrogate_posterior(\n",
    "    target_log_prob_fn=model.joint_log_prob(\n",
    "        observed_time_series=births_ts),\n",
    "    surrogate_posterior=variational_posteriors,\n",
    "    optimizer=optimizer,\n",
    "    num_steps=num_variational_steps)\n",
    "  return elbo_loss_curve\n",
    "\n",
    "elbo_loss_curve = train()\n",
    "\n",
    "plt.plot(elbo_loss_curve)\n",
    "plt.show()\n",
    "\n",
    "# Draw samples from the variational posterior.\n",
    "q_samples_births_ = variational_posteriors.sample(50)"
   ]
  },
  {
   "cell_type": "code",
   "execution_count": null,
   "metadata": {},
   "outputs": [],
   "source": [
    "print(\"Inferred parameters:\")\n",
    "for param in model.parameters:\n",
    "  print(\"{}: {} +- {}\".format(param.name,\n",
    "                              np.mean(q_samples_births_[param.name], axis=0),\n",
    "                              np.std(q_samples_births_[param.name], axis=0)))"
   ]
  },
  {
   "cell_type": "code",
   "execution_count": null,
   "metadata": {},
   "outputs": [],
   "source": [
    "num_forecast_steps = 10\n",
    "\n",
    "\n",
    "births_forecast_dist = tfp.sts.forecast(\n",
    "    model,\n",
    "    observed_time_series=births_ts,\n",
    "    parameter_samples=q_samples_births_,\n",
    "    num_steps_forecast=num_forecast_steps)"
   ]
  },
  {
   "cell_type": "code",
   "execution_count": null,
   "metadata": {},
   "outputs": [],
   "source": [
    "num_samples=10\n",
    "\n",
    "births_forecast_mean, births_forecast_scale, births_forecast_samples = (\n",
    "    births_forecast_dist.mean().numpy()[..., 0],\n",
    "    births_forecast_dist.stddev().numpy()[..., 0],\n",
    "    births_forecast_dist.sample(num_samples).numpy()[..., 0])"
   ]
  },
  {
   "cell_type": "code",
   "execution_count": null,
   "metadata": {},
   "outputs": [],
   "source": [
    "fig, ax = plot_forecast(\n",
    "    list(range(len(birth_dates))), births_ts,\n",
    "    births_forecast_mean, births_forecast_scale, births_forecast_samples,\n",
    "    #x_locator=co2_loc,\n",
    "    #x_formatter=co2_fmt,\n",
    "    title=\"Time series plot\")\n",
    "ax.axvline(list(range(len(birth_dates)))[-num_forecast_steps], linestyle=\"--\")\n",
    "ax.legend(loc=\"upper left\")\n",
    "ax.set_ylabel(\"Time series values\")\n",
    "ax.set_xlabel(\"Year\")\n",
    "fig.autofmt_xdate()"
   ]
  },
  {
   "cell_type": "code",
   "execution_count": null,
   "metadata": {},
   "outputs": [],
   "source": []
  },
  {
   "cell_type": "code",
   "execution_count": null,
   "metadata": {},
   "outputs": [],
   "source": []
  },
  {
   "cell_type": "code",
   "execution_count": null,
   "metadata": {},
   "outputs": [],
   "source": []
  }
 ],
 "metadata": {
  "kernelspec": {
   "display_name": "Python 3",
   "language": "python",
   "name": "python3"
  },
  "language_info": {
   "codemirror_mode": {
    "name": "ipython",
    "version": 3
   },
   "file_extension": ".py",
   "mimetype": "text/x-python",
   "name": "python",
   "nbconvert_exporter": "python",
   "pygments_lexer": "ipython3",
   "version": "3.6.8"
  }
 },
 "nbformat": 4,
 "nbformat_minor": 4
}
