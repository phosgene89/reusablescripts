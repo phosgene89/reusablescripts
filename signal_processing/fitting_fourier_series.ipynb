{
 "cells": [
  {
   "cell_type": "markdown",
   "metadata": {},
   "source": [
    "# Fitting Fourier Series with symfit"
   ]
  },
  {
   "cell_type": "code",
   "execution_count": 80,
   "metadata": {},
   "outputs": [],
   "source": [
    "from symfit import parameters, variables, sin, cos, Fit\n",
    "import numpy as np\n",
    "import matplotlib.pyplot as plt\n",
    "\n",
    "def fourier_series(x, f, n=0):\n",
    "    \"\"\"\n",
    "    Returns a symbolic fourier series of order `n`.\n",
    "    \n",
    "    Example from https://symfit.readthedocs.io/en/stable/examples/ex_fourier_series.html.\n",
    "\n",
    "    :param n: Order of the fourier series.\n",
    "    :param x: Independent variable\n",
    "    :param f: Frequency of the fourier series\n",
    "    \"\"\"\n",
    "    f=1/(2*np.pi)\n",
    "    # Make the parameter objects for all the terms\n",
    "    a0, *cos_a = parameters(','.join(['a{}'.format(i) for i in range(0, n + 1)]))\n",
    "    sin_b = parameters(','.join(['b{}'.format(i) for i in range(1, n + 1)]))\n",
    "    # Construct the series\n",
    "    series = a0 + sum(ai * cos(i * f * x) + bi * sin(i * f * x)\n",
    "                     for i, (ai, bi) in enumerate(zip(cos_a, sin_b), start=1))\n",
    "\n",
    "    return series\n",
    "\n",
    "def fit_fourier(input_vals, targets, complete_input_vals, fundamental_freq, order=10):\n",
    "    \n",
    "    \"\"\"\n",
    "    Fit a Fourier series to the a set of input and output values.\n",
    "    \n",
    "    complete_input_vals is used to impute missing values.\n",
    "    \"\"\"\n",
    "    \n",
    "    # Define symbolic model with inputs x and targets y.\n",
    "    x, y = variables('x, y')\n",
    "    # Define model parameters w.\n",
    "    w, = parameters('w')\n",
    "    model_dict = {y: fourier_series(x, f=w, n=order)}\n",
    "\n",
    "    # Define a Fit object for this model and data.\n",
    "    fit = Fit(model_dict, x=input_vals, y=targets)\n",
    "    fit_result = fit.execute()\n",
    "    \n",
    "    # Impute missing values.\n",
    "    fitted_fourier = fit.model(x=complete_input_vals, **fit_result.params).y\n",
    "    \n",
    "    return fitted_fourier, fit_result, fit\n",
    "\n",
    "def optimise_fourier(input_vals, targets, complete_input_vals, fundamental_freq, orders=[3,4,5,6,7]):\n",
    "    \n",
    "    \"\"\"\n",
    "    Fit a Fourier series to the a set of input and output values.\n",
    "    \n",
    "    complete_input_vals is used to impute missing values.\n",
    "    \"\"\"\n",
    "    \n",
    "    best_order = 0\n",
    "    best_aic = 1000\n",
    "    \n",
    "    for order in orders:\n",
    "    \n",
    "        fitted_vals, fit_result, fit = fit_fourier(input_vals, targets, input_vals, fundamental_freq, order=order)\n",
    "        fitted_fourier = fit.model(x=complete_input_vals, **fit_result.params).y\n",
    "        max_diff = np.max(fitted_fourier) - np.max(targets)\n",
    "        se = np.square(fitted_vals-targets)\n",
    "        aic_score = get_AIC(2*order + 1, se, max_diff)\n",
    "        \n",
    "        if aic_score < best_aic:\n",
    "            best_order = order\n",
    "            best_aic = aic_score\n",
    "        \n",
    "    fitted_vals, fit_result, fit = fit_fourier(input_vals, targets, complete_input_vals, fundamental_freq, order=best_order)\n",
    "    \n",
    "    # Impute missing values.\n",
    "    fitted_fourier = fit.model(x=complete_input_vals, **fit_result.params).y\n",
    "    \n",
    "    return fitted_fourier\n",
    "\n",
    "def get_AIC(free_params, se, max_diff):\n",
    "    \n",
    "    \"\"\"\n",
    "    Akaike Information Criterion (AIC).\n",
    "    \"\"\"\n",
    "    \n",
    "    return .1*free_params + 5*np.mean(se) + 2*np.abs(max_diff)"
   ]
  },
  {
   "cell_type": "code",
   "execution_count": 81,
   "metadata": {},
   "outputs": [
    {
     "name": "stdout",
     "output_type": "stream",
     "text": [
      "{y: a0 + a1*cos(0.159154943091895*x) + a2*cos(0.318309886183791*x) + a3*cos(0.477464829275686*x) + a4*cos(0.636619772367581*x) + a5*cos(0.795774715459477*x) + a6*cos(0.954929658551372*x) + a7*cos(1.11408460164327*x) + b1*sin(0.159154943091895*x) + b2*sin(0.318309886183791*x) + b3*sin(0.477464829275686*x) + b4*sin(0.636619772367581*x) + b5*sin(0.795774715459477*x) + b6*sin(0.954929658551372*x) + b7*sin(1.11408460164327*x)}\n"
     ]
    }
   ],
   "source": [
    "# Choose order of Fourier series.\n",
    "FOURIER_ORDER = 7\n",
    "\n",
    "# Define symbolic model with inputs x and targets y.\n",
    "x, y = variables('x, y')\n",
    "# Define model parameters w.\n",
    "w, = parameters('w')\n",
    "model_dict = {y: fourier_series(x, f=w, n=FOURIER_ORDER)}\n",
    "print(model_dict)"
   ]
  },
  {
   "cell_type": "code",
   "execution_count": 82,
   "metadata": {},
   "outputs": [
    {
     "name": "stdout",
     "output_type": "stream",
     "text": [
      "\n",
      "Parameter Value        Standard Deviation\n",
      "a0        1.969857e+03 1.658897e+03\n",
      "a1        -1.997297e+03 1.606796e+03\n",
      "a2        -1.027410e+03 1.022293e+03\n",
      "a3        1.626648e+03 1.390067e+03\n",
      "a4        -5.807888e+02 4.340740e+02\n",
      "a5        -4.939639e+01 1.105043e+02\n",
      "a6        6.696878e+01 6.234118e+01\n",
      "a7        -8.543810e+00 6.303889e+00\n",
      "b1        -2.982684e+03 2.564936e+03\n",
      "b2        2.501271e+03 2.047464e+03\n",
      "b3        -3.357936e+02 2.668933e+02\n",
      "b4        -5.634427e+02 5.463168e+02\n",
      "b5        2.929500e+02 2.366780e+02\n",
      "b6        -3.171469e+01 2.546891e+01\n",
      "b7        -4.507880e+00 6.726721e+00\n",
      "Status message         Desired error not necessarily achieved due to precision loss.\n",
      "Number of iterations   109\n",
      "Objective              <symfit.core.objectives.LeastSquares object at 0x7f795fbafc50>\n",
      "Minimizer              <symfit.core.minimizers.BFGS object at 0x7f795fbaff60>\n",
      "\n",
      "Goodness of fit qualifiers:\n",
      "chi_squared            17.06925912565861\n",
      "objective_value        8.534629562829306\n",
      "r_squared              0.6058760805020896\n"
     ]
    }
   ],
   "source": [
    "# Make step function data\n",
    "xdata = np.concatenate([np.random.uniform(-np.pi, 3*np.pi, 100), np.random.uniform(4*np.pi, 5*np.pi, 100)])\n",
    "\n",
    "ydata = (np.sin(xdata) + np.random.normal(0,0.5,len(xdata)))*(xdata-np.min(xdata))/((np.max(xdata)-np.min(xdata)))\n",
    "\n",
    "# Define a Fit object for this model and data\n",
    "fit = Fit(model_dict, x=xdata, y=ydata)\n",
    "fit_result = fit.execute()\n",
    "print(fit_result)"
   ]
  },
  {
   "cell_type": "code",
   "execution_count": 83,
   "metadata": {},
   "outputs": [],
   "source": [
    "# Get input values over entire domain.\n",
    "input_data = np.linspace(-np.pi, 5*np.pi, 200)\n",
    "\n",
    "# Now plot the fitted Fourier series over input_data.\n",
    "fitted_fourier = fit.model(x=input_data, **fit_result.params).y\n",
    "\n",
    "# Compare to true values over entire domain (without noise).\n",
    "ytrue = (np.sin(input_data))*(input_data-np.min(xdata))/((np.max(xdata)-np.min(xdata)))"
   ]
  },
  {
   "cell_type": "code",
   "execution_count": 84,
   "metadata": {},
   "outputs": [
    {
     "data": {
      "image/png": "[encoded data removed]",
      "text/plain": [
       "<Figure size 432x288 with 1 Axes>"
      ]
     },
     "metadata": {
      "needs_background": "light"
     },
     "output_type": "display_data"
    }
   ],
   "source": [
    "# Plot the result\n",
    "plt.scatter(xdata, ydata, label=\"Actual+noise\", s = 18, alpha=0.7)\n",
    "#plt.scatter(xdata, fit.model(x=xdata, **fit_result.params).y, ls=':', label=\"Fourier\")\n",
    "plt.plot(input_data, fitted_fourier, label=\"Fourier\", color='orange', linewidth=3)\n",
    "plt.plot(input_data, ytrue, label=\"Actual\", color='red')\n",
    "plt.xlabel('x')\n",
    "plt.ylabel('y')\n",
    "plt.legend()\n",
    "plt.title(\"Fitted Fourier series and observed values with order {} series\".format(FOURIER_ORDER))\n",
    "plt.show()"
   ]
  },
  {
   "cell_type": "code",
   "execution_count": null,
   "metadata": {},
   "outputs": [],
   "source": []
  },
  {
   "cell_type": "code",
   "execution_count": null,
   "metadata": {},
   "outputs": [],
   "source": []
  }
 ],
 "metadata": {
  "kernelspec": {
   "display_name": "Python 3",
   "language": "python",
   "name": "python3"
  },
  "language_info": {
   "codemirror_mode": {
    "name": "ipython",
    "version": 3
   },
   "file_extension": ".py",
   "mimetype": "text/x-python",
   "name": "python",
   "nbconvert_exporter": "python",
   "pygments_lexer": "ipython3",
   "version": "3.6.8"
  }
 },
 "nbformat": 4,
 "nbformat_minor": 4
}
