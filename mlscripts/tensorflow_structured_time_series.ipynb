{
 "cells": [
  {
   "cell_type": "markdown",
   "metadata": {},
   "source": [
    "# Structured Time Series with TF Probability\n",
    "We will be using the total female births per year dataset to explore structured time series' in TFP.\n",
    "\n",
    "Example is modelled on the example from this <a href =\"https://medium.com/tensorflow/structural-time-series-modeling-in-tensorflow-probability-344edac24083\">article</a> and the associated <a href = \"https://github.com/tensorflow/probability/blob/master/tensorflow_probability/examples/jupyter_notebooks/Structural_Time_Series_Modeling_Case_Studies_Atmospheric_CO2_and_Electricity_Demand.ipynb\">code</a>."
   ]
  },
  {
   "cell_type": "code",
   "execution_count": 16,
   "metadata": {},
   "outputs": [],
   "source": [
    "import pandas as pd\n",
    "import numpy as np\n",
    "import matplotlib.pyplot as plt\n",
    "import tensorflow as tf\n",
    "import tensorflow_probability as tfp\n",
    "from tensorflow_probability import sts"
   ]
  },
  {
   "cell_type": "code",
   "execution_count": 17,
   "metadata": {},
   "outputs": [
    {
     "name": "stdout",
     "output_type": "stream",
     "text": [
      "SUCCESS: Found GPU: /device:GPU:0\n"
     ]
    }
   ],
   "source": [
    "if tf.test.gpu_device_name() != '/device:GPU:0':\n",
    "  print('WARNING: GPU device not found.')\n",
    "else:\n",
    "  print('SUCCESS: Found GPU: {}'.format(tf.test.gpu_device_name()))"
   ]
  },
  {
   "cell_type": "code",
   "execution_count": 18,
   "metadata": {},
   "outputs": [],
   "source": [
    "def build_model(observed_time_series):\n",
    "    \n",
    "    trend = sts.LocalLinearTrend(observed_time_series=observed_time_series)\n",
    "    seasonal = tfp.sts.Seasonal(num_seasons=12, observed_time_series=observed_time_series)\n",
    "    model = sts.Sum([trend, seasonal], observed_time_series=observed_time_series)\n",
    "    \n",
    "    return model"
   ]
  },
  {
   "cell_type": "code",
   "execution_count": 22,
   "metadata": {},
   "outputs": [
    {
     "name": "stdout",
     "output_type": "stream",
     "text": [
      "         Date  Births\n",
      "0  1959-01-01      35\n",
      "1  1959-01-02      32\n",
      "2  1959-01-03      30\n",
      "3  1959-01-04      31\n",
      "4  1959-01-05      44\n"
     ]
    }
   ],
   "source": [
    "filepath = \"/media/greg/Storage/datasets/time_series/daily_total_female_births/daily-total-female-births.csv\"\n",
    "df = pd.read_csv(filepath)\n",
    "\n",
    "print(df.head())"
   ]
  },
  {
   "cell_type": "code",
   "execution_count": 23,
   "metadata": {},
   "outputs": [
    {
     "name": "stdout",
     "output_type": "stream",
     "text": [
      "WARNING:tensorflow:From /home/greg/Desktop/virtual_environments/standard_env/lib/python3.6/site-packages/tensorflow_probability/python/sts/fitting.py:185: SeedStream.__init__ (from tensorflow_probability.python.util.seed_stream) is deprecated and will be removed after 2019-10-01.\n",
      "Instructions for updating:\n",
      "SeedStream has moved to `tfp.util.SeedStream`.\n"
     ]
    }
   ],
   "source": [
    "births_ts = df.Births.astype(np.float) # TFP requires us to work with floats.\n",
    "birth_dates = df.Date.values\n",
    "\n",
    "model = build_model(births_ts)\n",
    "\n",
    "# Build the variational surrogate posteriors `qs`.\n",
    "variational_posteriors = tfp.sts.build_factored_surrogate_posterior(\n",
    "    model=model)"
   ]
  },
  {
   "cell_type": "code",
   "execution_count": 25,
   "metadata": {},
   "outputs": [
    {
     "data": {
      "image/png": "[encoded data removed]",
      "text/plain": [
       "<Figure size 432x288 with 1 Axes>"
      ]
     },
     "metadata": {
      "needs_background": "light"
     },
     "output_type": "display_data"
    }
   ],
   "source": [
    "#@title Minimize the variational loss.\n",
    "\n",
    "# Allow external control of optimization to reduce test runtimes.\n",
    "num_variational_steps = 200 # @param { isTemplate: true}\n",
    "num_variational_steps = int(num_variational_steps)\n",
    "\n",
    "optimizer = tf.optimizers.Adam(learning_rate=.1)\n",
    "# Using fit_surrogate_posterior to build and optimize the variational loss function.\n",
    "def train():\n",
    "  elbo_loss_curve = tfp.vi.fit_surrogate_posterior(\n",
    "    target_log_prob_fn=model.joint_log_prob(\n",
    "        observed_time_series=births_ts),\n",
    "    surrogate_posterior=variational_posteriors,\n",
    "    optimizer=optimizer,\n",
    "    num_steps=num_variational_steps)\n",
    "  return elbo_loss_curve\n",
    "\n",
    "elbo_loss_curve = train()\n",
    "\n",
    "plt.plot(elbo_loss_curve)\n",
    "plt.show()\n",
    "\n",
    "# Draw samples from the variational posterior.\n",
    "q_samples_births_ = variational_posteriors.sample(50)"
   ]
  },
  {
   "cell_type": "code",
   "execution_count": 27,
   "metadata": {},
   "outputs": [
    {
     "name": "stdout",
     "output_type": "stream",
     "text": [
      "Inferred parameters:\n",
      "observation_noise_scale: 6.492300417534741 +- 0.18992896957956024\n",
      "LocalLinearTrend/_level_scale: 0.32214757160928414 +- 0.10951441580872576\n",
      "LocalLinearTrend/_slope_scale: 0.01586770343301735 +- 0.01515068428421647\n",
      "Seasonal/_drift_scale: 0.15067976365308783 +- 0.1329654011483034\n"
     ]
    }
   ],
   "source": [
    "print(\"Inferred parameters:\")\n",
    "for param in model.parameters:\n",
    "  print(\"{}: {} +- {}\".format(param.name,\n",
    "                              np.mean(q_samples_births_[param.name], axis=0),\n",
    "                              np.std(q_samples_births_[param.name], axis=0)))"
   ]
  },
  {
   "cell_type": "code",
   "execution_count": 29,
   "metadata": {},
   "outputs": [],
   "source": [
    "num_forecast_steps = 10\n",
    "\n",
    "\n",
    "births_forecast_dist = tfp.sts.forecast(\n",
    "    model,\n",
    "    observed_time_series=births_ts,\n",
    "    parameter_samples=q_samples_births_,\n",
    "    num_steps_forecast=num_forecast_steps)"
   ]
  },
  {
   "cell_type": "code",
   "execution_count": 30,
   "metadata": {},
   "outputs": [],
   "source": [
    "num_samples=10\n",
    "\n",
    "births_forecast_mean, births_forecast_scale, births_forecast_samples = (\n",
    "    births_forecast_dist.mean().numpy()[..., 0],\n",
    "    births_forecast_dist.stddev().numpy()[..., 0],\n",
    "    births_forecast_dist.sample(num_samples).numpy()[..., 0])"
   ]
  },
  {
   "cell_type": "code",
   "execution_count": null,
   "metadata": {},
   "outputs": [],
   "source": [
    "fig, ax = plot_forecast(\n",
    "    birth_dates, births_ts,\n",
    "    births_forecast_mean, births_forecast_scale, births_forecast_samples,\n",
    "    x_locator=co2_loc,\n",
    "    x_formatter=co2_fmt,\n",
    "    title=\"Atmospheric CO2 forecast\")\n",
    "ax.axvline(co2_dates[-num_forecast_steps], linestyle=\"--\")\n",
    "ax.legend(loc=\"upper left\")\n",
    "ax.set_ylabel(\"Atmospheric CO2 concentration (ppm)\")\n",
    "ax.set_xlabel(\"Year\")\n",
    "fig.autofmt_xdate()"
   ]
  },
  {
   "cell_type": "code",
   "execution_count": null,
   "metadata": {},
   "outputs": [],
   "source": []
  },
  {
   "cell_type": "code",
   "execution_count": null,
   "metadata": {},
   "outputs": [],
   "source": []
  },
  {
   "cell_type": "code",
   "execution_count": null,
   "metadata": {},
   "outputs": [],
   "source": []
  },
  {
   "cell_type": "code",
   "execution_count": null,
   "metadata": {},
   "outputs": [],
   "source": []
  },
  {
   "cell_type": "code",
   "execution_count": null,
   "metadata": {},
   "outputs": [],
   "source": []
  }
 ],
 "metadata": {
  "kernelspec": {
   "display_name": "Python 3",
   "language": "python",
   "name": "python3"
  },
  "language_info": {
   "codemirror_mode": {
    "name": "ipython",
    "version": 3
   },
   "file_extension": ".py",
   "mimetype": "text/x-python",
   "name": "python",
   "nbconvert_exporter": "python",
   "pygments_lexer": "ipython3",
   "version": "3.6.9"
  }
 },
 "nbformat": 4,
 "nbformat_minor": 4
}
