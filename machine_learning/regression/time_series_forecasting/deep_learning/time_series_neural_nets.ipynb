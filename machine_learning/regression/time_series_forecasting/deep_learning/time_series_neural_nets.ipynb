{
 "cells": [
  {
   "cell_type": "markdown",
   "metadata": {},
   "source": [
    "# TO DO\n",
    " * Add exogenous variables"
   ]
  },
  {
   "cell_type": "markdown",
   "metadata": {},
   "source": [
    "# Multivariate Time Series Prediction with Keras LSTM"
   ]
  },
  {
   "cell_type": "code",
   "execution_count": 1,
   "metadata": {},
   "outputs": [],
   "source": [
    "from tensorflow.keras import Sequential\n",
    "from tensorflow.keras.layers import Dense, LSTM\n",
    "from tensorflow.keras.preprocessing.sequence import TimeseriesGenerator\n",
    "import numpy as np\n",
    "import matplotlib.pyplot as plt"
   ]
  },
  {
   "cell_type": "markdown",
   "metadata": {},
   "source": [
    "# Hyperparameters"
   ]
  },
  {
   "cell_type": "code",
   "execution_count": 6,
   "metadata": {},
   "outputs": [],
   "source": [
    "num_samples = 5000\n",
    "time_steps = 50\n",
    "features = 1\n",
    "batch_size = 128\n",
    "epochs = 3"
   ]
  },
  {
   "cell_type": "markdown",
   "metadata": {},
   "source": [
    "# Generate Data\n",
    "Generated data must be of the shape (num_samples, time_steps, features)."
   ]
  },
  {
   "cell_type": "code",
   "execution_count": 3,
   "metadata": {},
   "outputs": [
    {
     "data": {
      "text/plain": [
       "Text(0, 0.5, 'y')"
      ]
     },
     "execution_count": 3,
     "metadata": {},
     "output_type": "execute_result"
    },
    {
     "data": {
      "image/png": "[encoded data removed]",
      "text/plain": [
       "<Figure size 432x288 with 1 Axes>"
      ]
     },
     "metadata": {
      "needs_background": "light"
     },
     "output_type": "display_data"
    }
   ],
   "source": [
    "# Generate a time series\n",
    "n = 1000\n",
    "X = np.linspace(0,100, (n*features)).reshape((n, features))\n",
    "y = np.sin(X) + np.random.normal(0,0.3, (n, features))\n",
    "\n",
    "train_rows = int(len(X)*0.7)\n",
    "val_rows = int(len(X)*0.2 + train_rows)\n",
    "\n",
    "X_train = X[:train_rows]\n",
    "X_val = X[train_rows:val_rows]\n",
    "X_test = X[val_rows:]\n",
    "\n",
    "y_train = y[:train_rows]\n",
    "y_val = y[train_rows:val_rows]\n",
    "y_test = y[val_rows:]\n",
    "\n",
    "y_train = (y_train - np.mean(y_train))/(np.std(y_train))\n",
    "y_val = (y_val - np.mean(y_train))/(np.std(y_train))\n",
    "y_test = (y_test - np.mean(y_train))/(np.std(y_train))\n",
    "\n",
    "plt.plot(X_train, y_train)\n",
    "plt.xlabel(\"X\")\n",
    "plt.ylabel(\"y\")"
   ]
  },
  {
   "cell_type": "code",
   "execution_count": 4,
   "metadata": {},
   "outputs": [],
   "source": [
    "# Use Keras to create a generator with both time series sequences and their targets.\n",
    "data_gen_train = TimeseriesGenerator(y_train, y_train,\n",
    "                               length=time_steps, sampling_rate=1,\n",
    "                               batch_size=batch_size)\n",
    "\n",
    "data_gen_val = TimeseriesGenerator(y_val, y_val,\n",
    "                               length=time_steps, sampling_rate=1,\n",
    "                               batch_size=batch_size)"
   ]
  },
  {
   "cell_type": "code",
   "execution_count": 5,
   "metadata": {},
   "outputs": [
    {
     "name": "stdout",
     "output_type": "stream",
     "text": [
      "Model: \"sequential\"\n",
      "_________________________________________________________________\n",
      "Layer (type)                 Output Shape              Param #   \n",
      "=================================================================\n",
      "lstm (LSTM)                  (None, 50, 30)            3840      \n",
      "_________________________________________________________________\n",
      "lstm_1 (LSTM)                (None, 30)                7320      \n",
      "_________________________________________________________________\n",
      "dense (Dense)                (None, 128)               3968      \n",
      "_________________________________________________________________\n",
      "dense_1 (Dense)              (None, 1)                 129       \n",
      "=================================================================\n",
      "Total params: 15,257\n",
      "Trainable params: 15,257\n",
      "Non-trainable params: 0\n",
      "_________________________________________________________________\n"
     ]
    }
   ],
   "source": [
    "model = Sequential()\n",
    "model.add(LSTM(units=30, return_sequences= True, input_shape=(time_steps,features)))\n",
    "model.add(LSTM(units=30))\n",
    "model.add(Dense(units=128))\n",
    "model.add(Dense(units=features))\n",
    "\n",
    "model.summary()\n",
    "\n",
    "model.compile(optimizer='adam', loss='mean_squared_error')"
   ]
  },
  {
   "cell_type": "code",
   "execution_count": 7,
   "metadata": {},
   "outputs": [
    {
     "name": "stdout",
     "output_type": "stream",
     "text": [
      "Epoch 1/3\n",
      "6/6 [==============================] - 2s 349ms/step - loss: 0.8380 1s - loss: 0.7\n",
      "Epoch 2/3\n",
      "6/6 [==============================] - 0s 69ms/step - loss: 0.6358\n",
      "Epoch 3/3\n",
      "6/6 [==============================] - 0s 60ms/step - loss: 0.4819\n"
     ]
    },
    {
     "data": {
      "text/plain": [
       "<tensorflow.python.keras.callbacks.History at 0x29fd7352248>"
      ]
     },
     "execution_count": 7,
     "metadata": {},
     "output_type": "execute_result"
    }
   ],
   "source": [
    "#model.fit(X, Y, epochs=20, batch_size=32)\n",
    "\n",
    "model.fit_generator(data_gen_train, steps_per_epoch = len(data_gen_train), epochs = epochs)"
   ]
  },
  {
   "cell_type": "code",
   "execution_count": 90,
   "metadata": {},
   "outputs": [
    {
     "data": {
      "text/plain": [
       "<matplotlib.legend.Legend at 0x7f03c6f0e278>"
      ]
     },
     "execution_count": 90,
     "metadata": {},
     "output_type": "execute_result"
    },
    {
     "data": {
      "image/png": "[encoded data removed]",
      "text/plain": [
       "<Figure size 432x288 with 1 Axes>"
      ]
     },
     "metadata": {
      "needs_background": "light"
     },
     "output_type": "display_data"
    }
   ],
   "source": [
    "y_pred = model.predict(data_gen_val)\n",
    "\n",
    "plt.plot(X_val[50:], y_pred, label = \"predicted\")\n",
    "plt.plot(X_val[50:], y_val[50:], label = \"observed\")\n",
    "plt.legend()"
   ]
  },
  {
   "cell_type": "markdown",
   "metadata": {},
   "source": [
    "# 1-Dimensional CNN for Multivariate Time Series Prediction"
   ]
  },
  {
   "cell_type": "code",
   "execution_count": 8,
   "metadata": {},
   "outputs": [],
   "source": [
    "from tensorflow.keras.models import Model\n",
    "from tensorflow.keras.layers import Input\n",
    "from tensorflow.keras.layers import Dense\n",
    "from tensorflow.keras.layers import Flatten\n",
    "from tensorflow.keras.layers import Conv1D\n",
    "from tensorflow.keras.layers import MaxPooling1D"
   ]
  },
  {
   "cell_type": "code",
   "execution_count": 9,
   "metadata": {},
   "outputs": [],
   "source": [
    "model = Sequential()\n",
    "model.add(Conv1D(filters=64, kernel_size=2, activation='relu', input_shape=(time_steps,features)))\n",
    "model.add(MaxPooling1D(pool_size=2))\n",
    "model.add(Flatten())\n",
    "model.add(Dense(50, activation='relu'))\n",
    "model.add(Dense(features))\n",
    "model.compile(optimizer='adam', loss='mse')"
   ]
  },
  {
   "cell_type": "code",
   "execution_count": 12,
   "metadata": {},
   "outputs": [
    {
     "name": "stdout",
     "output_type": "stream",
     "text": [
      "Epoch 1/3\n",
      "6/6 [==============================] - 1s 166ms/step - loss: 0.4596\n",
      "Epoch 2/3\n",
      "6/6 [==============================] - 0s 46ms/step - loss: 0.2103\n",
      "Epoch 3/3\n",
      "6/6 [==============================] - 0s 38ms/step - loss: 0.1602\n"
     ]
    },
    {
     "data": {
      "text/plain": [
       "<tensorflow.python.keras.callbacks.History at 0x29e75f03f48>"
      ]
     },
     "execution_count": 12,
     "metadata": {},
     "output_type": "execute_result"
    }
   ],
   "source": [
    "model.fit_generator(data_gen_train, steps_per_epoch = len(data_gen_train), epochs = epochs)"
   ]
  },
  {
   "cell_type": "code",
   "execution_count": null,
   "metadata": {},
   "outputs": [],
   "source": []
  },
  {
   "cell_type": "markdown",
   "metadata": {},
   "source": [
    "# 1-Dimensional LSTM-CNN\n",
    "\n",
    " * From <a href=\"https://www.kaggle.com/dimitreoliveira/deep-learning-for-time-series-forecasting\">this post</a>.\n",
    " \n",
    " Input to the model should be in the following format: (samples, subsequences, timesteps, features)."
   ]
  },
  {
   "cell_type": "code",
   "execution_count": 13,
   "metadata": {},
   "outputs": [],
   "source": [
    "from tensorflow.keras.models import Sequential\n",
    "from tensorflow.keras.layers import Dense\n",
    "from tensorflow.keras.layers import Flatten\n",
    "from tensorflow.keras.layers import LSTM\n",
    "from tensorflow.keras.layers import RepeatVector\n",
    "from tensorflow.keras.layers import TimeDistributed"
   ]
  },
  {
   "cell_type": "code",
   "execution_count": 32,
   "metadata": {},
   "outputs": [],
   "source": [
    "# Generate a time series\n",
    "n = 1000\n",
    "X = np.linspace(0,100, (n*features)).reshape((n, 1,1,features))\n",
    "y = np.random.normal(0,0.3, (n, features))\n",
    "\n",
    "train_rows = int(len(X)*0.7)\n",
    "val_rows = int(len(X)*0.2 + train_rows)\n",
    "\n",
    "X_train = X[:train_rows]\n",
    "X_val = X[train_rows:val_rows]\n",
    "X_test = X[val_rows:]\n",
    "\n",
    "y_train = y[:train_rows]\n",
    "y_val = y[train_rows:val_rows]\n",
    "y_test = y[val_rows:]\n",
    "\n",
    "y_train = (y_train - np.mean(y_train))/(np.std(y_train))\n",
    "y_val = (y_val - np.mean(y_train))/(np.std(y_train))\n",
    "y_test = (y_test - np.mean(y_train))/(np.std(y_train))\n",
    "\n",
    "#plt.plot(X_train, y_train)\n",
    "#plt.xlabel(\"X\")\n",
    "#plt.ylabel(\"y\")"
   ]
  },
  {
   "cell_type": "code",
   "execution_count": 34,
   "metadata": {},
   "outputs": [],
   "source": [
    "n_outputs = 1\n",
    "subsequences = 1"
   ]
  },
  {
   "cell_type": "code",
   "execution_count": 35,
   "metadata": {},
   "outputs": [
    {
     "name": "stdout",
     "output_type": "stream",
     "text": [
      "Model: \"sequential_8\"\n",
      "_________________________________________________________________\n",
      "Layer (type)                 Output Shape              Param #   \n",
      "=================================================================\n",
      "time_distributed_14 (TimeDis (None, None, 1, 64)       128       \n",
      "_________________________________________________________________\n",
      "time_distributed_15 (TimeDis (None, None, 1, 64)       0         \n",
      "_________________________________________________________________\n",
      "time_distributed_16 (TimeDis (None, None, 64)          0         \n",
      "_________________________________________________________________\n",
      "lstm_6 (LSTM)                (None, 50)                23000     \n",
      "_________________________________________________________________\n",
      "dense_8 (Dense)              (None, 1)                 51        \n",
      "=================================================================\n",
      "Total params: 23,179\n",
      "Trainable params: 23,179\n",
      "Non-trainable params: 0\n",
      "_________________________________________________________________\n"
     ]
    }
   ],
   "source": [
    "model_cnn_lstm = Sequential()\n",
    "model_cnn_lstm.add(TimeDistributed(Conv1D(filters=64, kernel_size=1, activation='relu'), input_shape=(None, 1,1)))\n",
    "model_cnn_lstm.add(TimeDistributed(MaxPooling1D(pool_size=subsequences)))\n",
    "model_cnn_lstm.add(TimeDistributed(Flatten()))\n",
    "model_cnn_lstm.add(LSTM(50, activation='relu'))\n",
    "model_cnn_lstm.add(Dense(features))\n",
    "model_cnn_lstm.compile(loss='mse', optimizer='adam')\n",
    "\n",
    "model_cnn_lstm.summary()"
   ]
  },
  {
   "cell_type": "code",
   "execution_count": 36,
   "metadata": {},
   "outputs": [
    {
     "name": "stdout",
     "output_type": "stream",
     "text": [
      "Train on 700 samples\n",
      "Epoch 1/3\n",
      "700/700 [==============================] - 2s 3ms/sample - loss: 1.2949\n",
      "Epoch 2/3\n",
      "700/700 [==============================] - 0s 221us/sample - loss: 1.0246\n",
      "Epoch 3/3\n",
      "700/700 [==============================] - 0s 259us/sample - loss: 1.0386\n"
     ]
    },
    {
     "data": {
      "text/plain": [
       "<tensorflow.python.keras.callbacks.History at 0x2a012ab07c8>"
      ]
     },
     "execution_count": 36,
     "metadata": {},
     "output_type": "execute_result"
    }
   ],
   "source": [
    "model_cnn_lstm.fit(X_train, y_train, epochs = epochs)"
   ]
  },
  {
   "cell_type": "markdown",
   "metadata": {},
   "source": [
    "# 2-D LSTM-CNN\n",
    " * From <a href=\"https://arxiv.org/abs/1506.04214v1\">Convolutional LSTM Network: A Machine Learning Approach for Precipitation Nowcasting</a>."
   ]
  },
  {
   "cell_type": "code",
   "execution_count": null,
   "metadata": {},
   "outputs": [],
   "source": []
  }
 ],
 "metadata": {
  "kernelspec": {
   "display_name": "Python 3",
   "language": "python",
   "name": "python3"
  },
  "language_info": {
   "codemirror_mode": {
    "name": "ipython",
    "version": 3
   },
   "file_extension": ".py",
   "mimetype": "text/x-python",
   "name": "python",
   "nbconvert_exporter": "python",
   "pygments_lexer": "ipython3",
   "version": "3.6.8"
  }
 },
 "nbformat": 4,
 "nbformat_minor": 2
}
