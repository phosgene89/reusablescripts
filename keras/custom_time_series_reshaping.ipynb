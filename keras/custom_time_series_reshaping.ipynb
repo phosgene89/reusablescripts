{
 "cells": [
  {
   "cell_type": "markdown",
   "metadata": {},
   "source": [
    "# Time Series Processing Functions"
   ]
  },
  {
   "cell_type": "code",
   "execution_count": 2,
   "metadata": {},
   "outputs": [],
   "source": [
    "def reshape_time_series(X, lags = 30, horizon = 30, period = 60*24):\n",
    "    \n",
    "    \"\"\"\n",
    "    Reshapes a univariate time series into a form appropriate for a Keras MLP.\n",
    "    \n",
    "    Also adds sinusoidal features based on time, which help the MLP to model\n",
    "    seasonality.\n",
    "    \"\"\"\n",
    "    \n",
    "    \n",
    "    num_samples = len(X) - lags - horizon\n",
    "    time = np.arange(len(X))\n",
    "    time_period = time % period\n",
    "    \n",
    "    sinusoid_arg = 2 * np.pi * time_period / np.max(time_period)\n",
    "    \n",
    "    sine_time = np.sin(sinusoid_arg)\n",
    "    cos_time = np.cos(sinusoid_arg)\n",
    "    \n",
    "    X_processed = []\n",
    "    y_processed = []\n",
    "    \n",
    "    for i in range(num_samples):\n",
    "        \n",
    "        X_slice = X[i:i+lags]\n",
    "        y_slice = X[i+lags:i+lags+horizon]\n",
    "        sine_time_slice = sine_time[i:i+lags]\n",
    "        cos_time_slice = cos_time[i:i+lags]\n",
    "        \n",
    "        X_concat = np.concatenate([X_slice, sine_time_slice, cos_time_slice])\n",
    "        \n",
    "        X_processed.append(X_concat)\n",
    "        y_processed.append(y_slice)\n",
    "        \n",
    "    return np.array(X_processed), (y_processed)"
   ]
  },
  {
   "cell_type": "code",
   "execution_count": null,
   "metadata": {},
   "outputs": [],
   "source": []
  }
 ],
 "metadata": {
  "kernelspec": {
   "display_name": "Python 3",
   "language": "python",
   "name": "python3"
  },
  "language_info": {
   "codemirror_mode": {
    "name": "ipython",
    "version": 3
   },
   "file_extension": ".py",
   "mimetype": "text/x-python",
   "name": "python",
   "nbconvert_exporter": "python",
   "pygments_lexer": "ipython3",
   "version": "3.6.8"
  }
 },
 "nbformat": 4,
 "nbformat_minor": 2
}
