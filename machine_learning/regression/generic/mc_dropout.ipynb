{
 "cells": [
  {
   "cell_type": "markdown",
   "metadata": {},
   "source": [
    "### Bayesian Neural Networks from Dropout\n",
    "\n",
    "Based on <a href=\"https://arxiv.org/abs/1506.02142\">this</a> paper."
   ]
  },
  {
   "cell_type": "code",
   "execution_count": 3,
   "metadata": {},
   "outputs": [],
   "source": [
    "import tensorflow as tf\n",
    "import tensorflow.keras as K\n",
    "import numpy as np\n",
    "import matplotlib.pyplot as plt"
   ]
  },
  {
   "cell_type": "code",
   "execution_count": 212,
   "metadata": {},
   "outputs": [
    {
     "data": {
      "text/plain": [
       "[1, 2]"
      ]
     },
     "execution_count": 212,
     "metadata": {},
     "output_type": "execute_result"
    }
   ],
   "source": [
    "[1,2,3][0:2]"
   ]
  },
  {
   "cell_type": "code",
   "execution_count": 222,
   "metadata": {},
   "outputs": [
    {
     "data": {
      "text/plain": [
       "<matplotlib.collections.PathCollection at 0x7fd7fd788710>"
      ]
     },
     "execution_count": 222,
     "metadata": {},
     "output_type": "execute_result"
    },
    {
     "data": {
      "image/png": "[encoded data removed]",
      "text/plain": [
       "<Figure size 432x288 with 1 Axes>"
      ]
     },
     "metadata": {
      "needs_background": "light"
     },
     "output_type": "display_data"
    }
   ],
   "source": [
    "# Synthesise some data\n",
    "n = 10000\n",
    "\n",
    "X = np.linspace(0,200, n)/10\n",
    "y = X*np.cos(X) + np.sin(X) * np.random.normal(0,0.1, n)\n",
    "\n",
    "y = (y - np.min(y))/(np.max(y) - np.min(y))\n",
    "X = (X - np.min(X))/(np.max(X) - np.min(X))\n",
    "\n",
    "X = list(X)\n",
    "y = list(y)\n",
    "\n",
    "X_missing = X[:4000] + X[6000:]\n",
    "y_missing = y[:4000] + y[6000:]\n",
    "\n",
    "plt.scatter(X_missing, y_missing)"
   ]
  },
  {
   "cell_type": "code",
   "execution_count": 217,
   "metadata": {},
   "outputs": [],
   "source": [
    "def get_dropout(input_tensor, p=0.5, mc=False):\n",
    "    if mc:\n",
    "        return K.layers.Dropout(p)(input_tensor, training=True)\n",
    "    else:\n",
    "        return K.layers.Dropout(p)(input_tensor)"
   ]
  },
  {
   "cell_type": "code",
   "execution_count": 227,
   "metadata": {},
   "outputs": [],
   "source": [
    "drop_rate = 0.9\n",
    "mc = True\n",
    "units = 1028\n",
    "\n",
    "inputs = K.layers.Input(shape=(1,))\n",
    "\n",
    "output_1 = K.layers.Dense(units, activation='relu')(inputs)\n",
    "drop_1 = get_dropout(output_1, p=drop_rate, mc=mc)\n",
    "\n",
    "output_2 = K.layers.Dense(units//2, activation='relu')(drop_1)\n",
    "drop_2 = get_dropout(output_2, p=drop_rate, mc=mc)\n",
    "\n",
    "predictions = K.layers.Dense(1)(drop_2)"
   ]
  },
  {
   "cell_type": "code",
   "execution_count": 228,
   "metadata": {},
   "outputs": [
    {
     "name": "stdout",
     "output_type": "stream",
     "text": [
      "Train on 8000 samples\n",
      "Epoch 1/500\n",
      "8000/8000 [==============================] - 2s 216us/sample - loss: 0.1001\n",
      "Epoch 2/500\n",
      "8000/8000 [==============================] - 1s 157us/sample - loss: 0.0708\n",
      "Epoch 3/500\n",
      "8000/8000 [==============================] - 1s 155us/sample - loss: 0.0661\n",
      "Epoch 4/500\n",
      "8000/8000 [==============================] - 1s 149us/sample - loss: 0.0642\n",
      "Epoch 5/500\n",
      "8000/8000 [==============================] - 1s 146us/sample - loss: 0.0626\n",
      "Epoch 6/500\n",
      "8000/8000 [==============================] - 1s 151us/sample - loss: 0.0613\n",
      "Epoch 7/500\n",
      "8000/8000 [==============================] - 1s 148us/sample - loss: 0.0600\n",
      "Epoch 8/500\n",
      "8000/8000 [==============================] - 1s 147us/sample - loss: 0.0573\n",
      "Epoch 9/500\n",
      "8000/8000 [==============================] - 1s 146us/sample - loss: 0.0547\n",
      "Epoch 10/500\n",
      "8000/8000 [==============================] - 1s 144us/sample - loss: 0.0534\n",
      "Epoch 11/500\n",
      "8000/8000 [==============================] - 1s 150us/sample - loss: 0.0536\n",
      "Epoch 12/500\n",
      "8000/8000 [==============================] - 1s 154us/sample - loss: 0.0522\n",
      "Epoch 13/500\n",
      "8000/8000 [==============================] - 1s 151us/sample - loss: 0.0519\n",
      "Epoch 14/500\n",
      "8000/8000 [==============================] - 1s 150us/sample - loss: 0.0527\n",
      "Epoch 15/500\n",
      "8000/8000 [==============================] - 1s 145us/sample - loss: 0.0530\n",
      "Epoch 16/500\n",
      "8000/8000 [==============================] - 1s 150us/sample - loss: 0.0544\n",
      "Epoch 17/500\n",
      "8000/8000 [==============================] - 1s 145us/sample - loss: 0.0534\n",
      "Epoch 18/500\n",
      "8000/8000 [==============================] - 1s 156us/sample - loss: 0.0546\n",
      "Epoch 19/500\n",
      "8000/8000 [==============================] - 1s 157us/sample - loss: 0.0543\n",
      "Epoch 20/500\n",
      "8000/8000 [==============================] - 1s 157us/sample - loss: 0.0543\n",
      "Epoch 21/500\n",
      "8000/8000 [==============================] - 1s 154us/sample - loss: 0.0536\n",
      "Epoch 22/500\n",
      "8000/8000 [==============================] - 1s 155us/sample - loss: 0.0540\n",
      "Epoch 23/500\n",
      "8000/8000 [==============================] - 1s 155us/sample - loss: 0.0539\n",
      "Epoch 24/500\n",
      "8000/8000 [==============================] - 1s 158us/sample - loss: 0.0541\n",
      "Epoch 25/500\n",
      "8000/8000 [==============================] - 1s 158us/sample - loss: 0.0542\n",
      "Epoch 26/500\n",
      "8000/8000 [==============================] - 1s 151us/sample - loss: 0.0533\n",
      "Epoch 27/500\n",
      "8000/8000 [==============================] - 1s 150us/sample - loss: 0.0539\n",
      "Epoch 28/500\n",
      "8000/8000 [==============================] - 1s 150us/sample - loss: 0.0538\n",
      "Epoch 29/500\n",
      "8000/8000 [==============================] - 1s 156us/sample - loss: 0.0537\n",
      "Epoch 30/500\n",
      "8000/8000 [==============================] - 1s 151us/sample - loss: 0.0537\n",
      "Epoch 31/500\n",
      "8000/8000 [==============================] - 1s 154us/sample - loss: 0.0551\n",
      "Epoch 32/500\n",
      "8000/8000 [==============================] - 1s 154us/sample - loss: 0.0541\n",
      "Epoch 33/500\n",
      "8000/8000 [==============================] - 1s 154us/sample - loss: 0.0540\n",
      "Epoch 34/500\n",
      "8000/8000 [==============================] - 1s 152us/sample - loss: 0.0541\n",
      "Epoch 35/500\n",
      "8000/8000 [==============================] - 1s 155us/sample - loss: 0.0532\n",
      "Epoch 36/500\n",
      "8000/8000 [==============================] - 1s 153us/sample - loss: 0.0535\n",
      "Epoch 37/500\n",
      "8000/8000 [==============================] - 1s 148us/sample - loss: 0.0541\n",
      "Epoch 38/500\n",
      "8000/8000 [==============================] - 1s 157us/sample - loss: 0.0535\n",
      "Epoch 39/500\n",
      "8000/8000 [==============================] - 1s 156us/sample - loss: 0.0533\n",
      "Epoch 40/500\n",
      "8000/8000 [==============================] - 1s 157us/sample - loss: 0.0537\n",
      "Epoch 41/500\n",
      "8000/8000 [==============================] - 1s 175us/sample - loss: 0.0542\n",
      "Epoch 42/500\n",
      "8000/8000 [==============================] - 1s 158us/sample - loss: 0.0535\n",
      "Epoch 43/500\n",
      "8000/8000 [==============================] - 1s 142us/sample - loss: 0.0534\n",
      "Epoch 44/500\n",
      "8000/8000 [==============================] - 1s 161us/sample - loss: 0.0534\n",
      "Epoch 45/500\n",
      "8000/8000 [==============================] - 1s 141us/sample - loss: 0.0546\n",
      "Epoch 46/500\n",
      "8000/8000 [==============================] - 1s 175us/sample - loss: 0.0540\n",
      "Epoch 47/500\n",
      "8000/8000 [==============================] - 2s 194us/sample - loss: 0.0544\n",
      "Epoch 48/500\n",
      "8000/8000 [==============================] - 1s 145us/sample - loss: 0.0540\n",
      "Epoch 49/500\n",
      "8000/8000 [==============================] - 1s 147us/sample - loss: 0.0543\n",
      "Epoch 50/500\n",
      "8000/8000 [==============================] - 1s 145us/sample - loss: 0.0538\n",
      "Epoch 51/500\n",
      "8000/8000 [==============================] - 1s 150us/sample - loss: 0.0543\n",
      "Epoch 52/500\n",
      "8000/8000 [==============================] - 1s 147us/sample - loss: 0.0537\n",
      "Epoch 53/500\n",
      "8000/8000 [==============================] - 1s 153us/sample - loss: 0.0549\n",
      "Epoch 54/500\n",
      "8000/8000 [==============================] - 1s 161us/sample - loss: 0.0541\n",
      "Epoch 55/500\n",
      "8000/8000 [==============================] - 1s 154us/sample - loss: 0.0542\n",
      "Epoch 56/500\n",
      "8000/8000 [==============================] - 1s 153us/sample - loss: 0.0542\n",
      "Epoch 57/500\n",
      "8000/8000 [==============================] - 1s 160us/sample - loss: 0.0545\n",
      "Epoch 58/500\n",
      "8000/8000 [==============================] - 1s 159us/sample - loss: 0.0539\n",
      "Epoch 59/500\n",
      "8000/8000 [==============================] - 1s 157us/sample - loss: 0.0548\n",
      "Epoch 60/500\n",
      "8000/8000 [==============================] - 1s 161us/sample - loss: 0.0535\n",
      "Epoch 61/500\n",
      "8000/8000 [==============================] - 1s 168us/sample - loss: 0.0539\n",
      "Epoch 62/500\n",
      "8000/8000 [==============================] - 1s 143us/sample - loss: 0.0538\n",
      "Epoch 63/500\n",
      "8000/8000 [==============================] - 1s 160us/sample - loss: 0.0540\n",
      "Epoch 64/500\n",
      "8000/8000 [==============================] - 1s 154us/sample - loss: 0.0541\n",
      "Epoch 65/500\n",
      "8000/8000 [==============================] - 1s 174us/sample - loss: 0.0541\n",
      "Epoch 66/500\n",
      "8000/8000 [==============================] - 1s 149us/sample - loss: 0.0537\n",
      "Epoch 67/500\n",
      "8000/8000 [==============================] - 1s 173us/sample - loss: 0.0541\n",
      "Epoch 68/500\n",
      "2688/8000 [=========>....................] - ETA: 0s - loss: 0.0552"
     ]
    },
    {
     "ename": "KeyboardInterrupt",
     "evalue": "",
     "output_type": "error",
     "traceback": [
      "\u001b[0;31m---------------------------------------------------------------------------\u001b[0m",
      "\u001b[0;31mKeyboardInterrupt\u001b[0m                         Traceback (most recent call last)",
      "\u001b[0;32m<ipython-input-228-ec04ec696083>\u001b[0m in \u001b[0;36m<module>\u001b[0;34m\u001b[0m\n\u001b[1;32m      5\u001b[0m               \u001b[0mloss\u001b[0m\u001b[0;34m=\u001b[0m\u001b[0;34m'mse'\u001b[0m\u001b[0;34m,\u001b[0m\u001b[0;34m\u001b[0m\u001b[0;34m\u001b[0m\u001b[0m\n\u001b[1;32m      6\u001b[0m              batch_size = 128)\n\u001b[0;32m----> 7\u001b[0;31m \u001b[0mmodel\u001b[0m\u001b[0;34m.\u001b[0m\u001b[0mfit\u001b[0m\u001b[0;34m(\u001b[0m\u001b[0mX_missing\u001b[0m\u001b[0;34m,\u001b[0m \u001b[0my_missing\u001b[0m\u001b[0;34m,\u001b[0m \u001b[0mepochs\u001b[0m \u001b[0;34m=\u001b[0m \u001b[0;36m500\u001b[0m\u001b[0;34m)\u001b[0m  \u001b[0;31m# starts training\u001b[0m\u001b[0;34m\u001b[0m\u001b[0;34m\u001b[0m\u001b[0m\n\u001b[0m",
      "\u001b[0;32m~/Desktop/virtual_environments/standard_env/lib/python3.6/site-packages/tensorflow_core/python/keras/engine/training.py\u001b[0m in \u001b[0;36mfit\u001b[0;34m(self, x, y, batch_size, epochs, verbose, callbacks, validation_split, validation_data, shuffle, class_weight, sample_weight, initial_epoch, steps_per_epoch, validation_steps, validation_freq, max_queue_size, workers, use_multiprocessing, **kwargs)\u001b[0m\n\u001b[1;32m    726\u001b[0m         \u001b[0mmax_queue_size\u001b[0m\u001b[0;34m=\u001b[0m\u001b[0mmax_queue_size\u001b[0m\u001b[0;34m,\u001b[0m\u001b[0;34m\u001b[0m\u001b[0;34m\u001b[0m\u001b[0m\n\u001b[1;32m    727\u001b[0m         \u001b[0mworkers\u001b[0m\u001b[0;34m=\u001b[0m\u001b[0mworkers\u001b[0m\u001b[0;34m,\u001b[0m\u001b[0;34m\u001b[0m\u001b[0;34m\u001b[0m\u001b[0m\n\u001b[0;32m--> 728\u001b[0;31m         use_multiprocessing=use_multiprocessing)\n\u001b[0m\u001b[1;32m    729\u001b[0m \u001b[0;34m\u001b[0m\u001b[0m\n\u001b[1;32m    730\u001b[0m   def evaluate(self,\n",
      "\u001b[0;32m~/Desktop/virtual_environments/standard_env/lib/python3.6/site-packages/tensorflow_core/python/keras/engine/training_v2.py\u001b[0m in \u001b[0;36mfit\u001b[0;34m(self, model, x, y, batch_size, epochs, verbose, callbacks, validation_split, validation_data, shuffle, class_weight, sample_weight, initial_epoch, steps_per_epoch, validation_steps, validation_freq, **kwargs)\u001b[0m\n\u001b[1;32m    322\u001b[0m                 \u001b[0mmode\u001b[0m\u001b[0;34m=\u001b[0m\u001b[0mModeKeys\u001b[0m\u001b[0;34m.\u001b[0m\u001b[0mTRAIN\u001b[0m\u001b[0;34m,\u001b[0m\u001b[0;34m\u001b[0m\u001b[0;34m\u001b[0m\u001b[0m\n\u001b[1;32m    323\u001b[0m                 \u001b[0mtraining_context\u001b[0m\u001b[0;34m=\u001b[0m\u001b[0mtraining_context\u001b[0m\u001b[0;34m,\u001b[0m\u001b[0;34m\u001b[0m\u001b[0;34m\u001b[0m\u001b[0m\n\u001b[0;32m--> 324\u001b[0;31m                 total_epochs=epochs)\n\u001b[0m\u001b[1;32m    325\u001b[0m             \u001b[0mcbks\u001b[0m\u001b[0;34m.\u001b[0m\u001b[0mmake_logs\u001b[0m\u001b[0;34m(\u001b[0m\u001b[0mmodel\u001b[0m\u001b[0;34m,\u001b[0m \u001b[0mepoch_logs\u001b[0m\u001b[0;34m,\u001b[0m \u001b[0mtraining_result\u001b[0m\u001b[0;34m,\u001b[0m \u001b[0mModeKeys\u001b[0m\u001b[0;34m.\u001b[0m\u001b[0mTRAIN\u001b[0m\u001b[0;34m)\u001b[0m\u001b[0;34m\u001b[0m\u001b[0;34m\u001b[0m\u001b[0m\n\u001b[1;32m    326\u001b[0m \u001b[0;34m\u001b[0m\u001b[0m\n",
      "\u001b[0;32m~/Desktop/virtual_environments/standard_env/lib/python3.6/site-packages/tensorflow_core/python/keras/engine/training_v2.py\u001b[0m in \u001b[0;36mrun_one_epoch\u001b[0;34m(model, iterator, execution_function, dataset_size, batch_size, strategy, steps_per_epoch, num_samples, mode, training_context, total_epochs)\u001b[0m\n\u001b[1;32m    171\u001b[0m             \u001b[0mbatch_start\u001b[0m\u001b[0;34m=\u001b[0m\u001b[0mstep\u001b[0m \u001b[0;34m*\u001b[0m \u001b[0mbatch_size\u001b[0m\u001b[0;34m,\u001b[0m\u001b[0;34m\u001b[0m\u001b[0;34m\u001b[0m\u001b[0m\n\u001b[1;32m    172\u001b[0m             batch_end=step * batch_size + current_batch_size)\n\u001b[0;32m--> 173\u001b[0;31m       \u001b[0mcbks\u001b[0m\u001b[0;34m.\u001b[0m\u001b[0mmake_logs\u001b[0m\u001b[0;34m(\u001b[0m\u001b[0mmodel\u001b[0m\u001b[0;34m,\u001b[0m \u001b[0mbatch_logs\u001b[0m\u001b[0;34m,\u001b[0m \u001b[0mbatch_outs\u001b[0m\u001b[0;34m,\u001b[0m \u001b[0mmode\u001b[0m\u001b[0;34m)\u001b[0m\u001b[0;34m\u001b[0m\u001b[0;34m\u001b[0m\u001b[0m\n\u001b[0m\u001b[1;32m    174\u001b[0m       \u001b[0mstep\u001b[0m \u001b[0;34m+=\u001b[0m \u001b[0;36m1\u001b[0m\u001b[0;34m\u001b[0m\u001b[0;34m\u001b[0m\u001b[0m\n\u001b[1;32m    175\u001b[0m \u001b[0;34m\u001b[0m\u001b[0m\n",
      "\u001b[0;32m~/Desktop/virtual_environments/standard_env/lib/python3.6/site-packages/tensorflow_core/python/keras/callbacks.py\u001b[0m in \u001b[0;36mmake_logs\u001b[0;34m(model, logs, outputs, mode, prefix)\u001b[0m\n\u001b[1;32m    174\u001b[0m \u001b[0;32mdef\u001b[0m \u001b[0mmake_logs\u001b[0m\u001b[0;34m(\u001b[0m\u001b[0mmodel\u001b[0m\u001b[0;34m,\u001b[0m \u001b[0mlogs\u001b[0m\u001b[0;34m,\u001b[0m \u001b[0moutputs\u001b[0m\u001b[0;34m,\u001b[0m \u001b[0mmode\u001b[0m\u001b[0;34m,\u001b[0m \u001b[0mprefix\u001b[0m\u001b[0;34m=\u001b[0m\u001b[0;34m''\u001b[0m\u001b[0;34m)\u001b[0m\u001b[0;34m:\u001b[0m\u001b[0;34m\u001b[0m\u001b[0;34m\u001b[0m\u001b[0m\n\u001b[1;32m    175\u001b[0m   \u001b[0;34m\"\"\"Computes logs for sending to `on_batch_end` methods.\"\"\"\u001b[0m\u001b[0;34m\u001b[0m\u001b[0;34m\u001b[0m\u001b[0m\n\u001b[0;32m--> 176\u001b[0;31m   \u001b[0mmetric_names\u001b[0m \u001b[0;34m=\u001b[0m \u001b[0mmodel\u001b[0m\u001b[0;34m.\u001b[0m\u001b[0mmetrics_names\u001b[0m\u001b[0;34m\u001b[0m\u001b[0;34m\u001b[0m\u001b[0m\n\u001b[0m\u001b[1;32m    177\u001b[0m   \u001b[0;32mif\u001b[0m \u001b[0mmode\u001b[0m \u001b[0;32min\u001b[0m \u001b[0;34m{\u001b[0m\u001b[0mModeKeys\u001b[0m\u001b[0;34m.\u001b[0m\u001b[0mTRAIN\u001b[0m\u001b[0;34m,\u001b[0m \u001b[0mModeKeys\u001b[0m\u001b[0;34m.\u001b[0m\u001b[0mTEST\u001b[0m\u001b[0;34m}\u001b[0m \u001b[0;32mand\u001b[0m \u001b[0mmetric_names\u001b[0m\u001b[0;34m:\u001b[0m\u001b[0;34m\u001b[0m\u001b[0;34m\u001b[0m\u001b[0m\n\u001b[1;32m    178\u001b[0m     \u001b[0;32mfor\u001b[0m \u001b[0mlabel\u001b[0m\u001b[0;34m,\u001b[0m \u001b[0moutput\u001b[0m \u001b[0;32min\u001b[0m \u001b[0mzip\u001b[0m\u001b[0;34m(\u001b[0m\u001b[0mmetric_names\u001b[0m\u001b[0;34m,\u001b[0m \u001b[0moutputs\u001b[0m\u001b[0;34m)\u001b[0m\u001b[0;34m:\u001b[0m\u001b[0;34m\u001b[0m\u001b[0;34m\u001b[0m\u001b[0m\n",
      "\u001b[0;32m~/Desktop/virtual_environments/standard_env/lib/python3.6/site-packages/tensorflow_core/python/keras/engine/training.py\u001b[0m in \u001b[0;36mmetrics_names\u001b[0;34m(self)\u001b[0m\n\u001b[1;32m    432\u001b[0m \u001b[0;34m\u001b[0m\u001b[0m\n\u001b[1;32m    433\u001b[0m     \u001b[0;31m# Add all metric names.\u001b[0m\u001b[0;34m\u001b[0m\u001b[0;34m\u001b[0m\u001b[0;34m\u001b[0m\u001b[0m\n\u001b[0;32m--> 434\u001b[0;31m     \u001b[0mmetrics_names\u001b[0m \u001b[0;34m+=\u001b[0m \u001b[0;34m[\u001b[0m\u001b[0mm\u001b[0m\u001b[0;34m.\u001b[0m\u001b[0mname\u001b[0m \u001b[0;32mfor\u001b[0m \u001b[0mm\u001b[0m \u001b[0;32min\u001b[0m \u001b[0mself\u001b[0m\u001b[0;34m.\u001b[0m\u001b[0mmetrics\u001b[0m\u001b[0;34m]\u001b[0m\u001b[0;34m\u001b[0m\u001b[0;34m\u001b[0m\u001b[0m\n\u001b[0m\u001b[1;32m    435\u001b[0m     \u001b[0;32mreturn\u001b[0m \u001b[0mmetrics_names\u001b[0m\u001b[0;34m\u001b[0m\u001b[0;34m\u001b[0m\u001b[0m\n\u001b[1;32m    436\u001b[0m \u001b[0;34m\u001b[0m\u001b[0m\n",
      "\u001b[0;32m~/Desktop/virtual_environments/standard_env/lib/python3.6/site-packages/tensorflow_core/python/keras/engine/training.py\u001b[0m in \u001b[0;36mmetrics\u001b[0;34m(self)\u001b[0m\n\u001b[1;32m    412\u001b[0m       \u001b[0mmetrics\u001b[0m \u001b[0;34m+=\u001b[0m \u001b[0mself\u001b[0m\u001b[0;34m.\u001b[0m\u001b[0m_compile_metric_functions\u001b[0m\u001b[0;34m\u001b[0m\u001b[0;34m\u001b[0m\u001b[0m\n\u001b[1;32m    413\u001b[0m     \u001b[0mmetrics\u001b[0m\u001b[0;34m.\u001b[0m\u001b[0mextend\u001b[0m\u001b[0;34m(\u001b[0m\u001b[0mself\u001b[0m\u001b[0;34m.\u001b[0m\u001b[0m_metrics\u001b[0m\u001b[0;34m)\u001b[0m\u001b[0;34m\u001b[0m\u001b[0;34m\u001b[0m\u001b[0m\n\u001b[0;32m--> 414\u001b[0;31m     \u001b[0mmetrics\u001b[0m\u001b[0;34m.\u001b[0m\u001b[0mextend\u001b[0m\u001b[0;34m(\u001b[0m\u001b[0m_get_metrics_from_layers\u001b[0m\u001b[0;34m(\u001b[0m\u001b[0mself\u001b[0m\u001b[0;34m.\u001b[0m\u001b[0m_layers\u001b[0m\u001b[0;34m)\u001b[0m\u001b[0;34m)\u001b[0m\u001b[0;34m\u001b[0m\u001b[0;34m\u001b[0m\u001b[0m\n\u001b[0m\u001b[1;32m    415\u001b[0m     \u001b[0;32mreturn\u001b[0m \u001b[0mmetrics\u001b[0m\u001b[0;34m\u001b[0m\u001b[0;34m\u001b[0m\u001b[0m\n\u001b[1;32m    416\u001b[0m \u001b[0;34m\u001b[0m\u001b[0m\n",
      "\u001b[0;32m~/Desktop/virtual_environments/standard_env/lib/python3.6/site-packages/tensorflow_core/python/keras/engine/training.py\u001b[0m in \u001b[0;36m_get_metrics_from_layers\u001b[0;34m(layers)\u001b[0m\n\u001b[1;32m   3233\u001b[0m   \"\"\"\n\u001b[1;32m   3234\u001b[0m   \u001b[0mmetrics\u001b[0m \u001b[0;34m=\u001b[0m \u001b[0;34m[\u001b[0m\u001b[0;34m]\u001b[0m\u001b[0;34m\u001b[0m\u001b[0;34m\u001b[0m\u001b[0m\n\u001b[0;32m-> 3235\u001b[0;31m   \u001b[0mlayers\u001b[0m \u001b[0;34m=\u001b[0m \u001b[0mtrackable_layer_utils\u001b[0m\u001b[0;34m.\u001b[0m\u001b[0mfilter_empty_layer_containers\u001b[0m\u001b[0;34m(\u001b[0m\u001b[0mlayers\u001b[0m\u001b[0;34m)\u001b[0m\u001b[0;34m\u001b[0m\u001b[0;34m\u001b[0m\u001b[0m\n\u001b[0m\u001b[1;32m   3236\u001b[0m   \u001b[0;32mfor\u001b[0m \u001b[0mlayer\u001b[0m \u001b[0;32min\u001b[0m \u001b[0mlayers\u001b[0m\u001b[0;34m:\u001b[0m\u001b[0;34m\u001b[0m\u001b[0;34m\u001b[0m\u001b[0m\n\u001b[1;32m   3237\u001b[0m     \u001b[0;32mif\u001b[0m \u001b[0misinstance\u001b[0m\u001b[0;34m(\u001b[0m\u001b[0mlayer\u001b[0m\u001b[0;34m,\u001b[0m \u001b[0mModel\u001b[0m\u001b[0;34m)\u001b[0m\u001b[0;34m:\u001b[0m\u001b[0;34m\u001b[0m\u001b[0;34m\u001b[0m\u001b[0m\n",
      "\u001b[0;31mKeyboardInterrupt\u001b[0m: "
     ]
    }
   ],
   "source": [
    "sgd = K.optimizers.SGD(lr=0.01, decay=1e-6, momentum=0.9, nesterov=True)\n",
    "\n",
    "model = K.Model(inputs=inputs, outputs=predictions)\n",
    "model.compile(optimizer='adam',\n",
    "              loss='mse',\n",
    "             batch_size = 128)\n",
    "model.fit(X_missing, y_missing, epochs = 500)  # starts training"
   ]
  },
  {
   "cell_type": "code",
   "execution_count": 232,
   "metadata": {},
   "outputs": [
    {
     "data": {
      "text/plain": [
       "<matplotlib.legend.Legend at 0x7fd7fb0e3358>"
      ]
     },
     "execution_count": 232,
     "metadata": {},
     "output_type": "execute_result"
    },
    {
     "data": {
      "image/png": "[encoded data removed]",
      "text/plain": [
       "<Figure size 432x288 with 1 Axes>"
      ]
     },
     "metadata": {
      "needs_background": "light"
     },
     "output_type": "display_data"
    }
   ],
   "source": [
    "mc_preds = []\n",
    "mc_samples = 50\n",
    "\n",
    "X_test = np.linspace(0,2, 1000)\n",
    "\n",
    "for i in range(mc_samples):\n",
    "    \n",
    "    mc_preds.append(model.predict(X_test))\n",
    "    \n",
    "mc_preds = np.array(mc_preds)\n",
    "\n",
    "preds = np.mean(mc_preds, axis=0)\n",
    "\n",
    "plt.plot(X_test, preds, label = \"predicted\")\n",
    "plt.plot(X, y, alpha = 0.3, label = \"actual\")\n",
    "plt.legend()"
   ]
  },
  {
   "cell_type": "code",
   "execution_count": 259,
   "metadata": {},
   "outputs": [
    {
     "data": {
      "text/plain": [
       "<matplotlib.legend.Legend at 0x7fd7f9d59d68>"
      ]
     },
     "execution_count": 259,
     "metadata": {},
     "output_type": "execute_result"
    },
    {
     "data": {
      "image/png": "[encoded data removed]",
      "text/plain": [
       "<Figure size 432x288 with 1 Axes>"
      ]
     },
     "metadata": {
      "needs_background": "light"
     },
     "output_type": "display_data"
    }
   ],
   "source": [
    "plt.plot(X_test, preds, label = \"predicted_mean\", c='b')\n",
    "\n",
    "std = np.std(mc_preds, axis=0)\n",
    "\n",
    "upper = preds + 1.97 * std\n",
    "lower = preds - 1.97 * std\n",
    "\n",
    "upper = np.reshape(upper, (-1))\n",
    "lower = np.reshape(lower, (-1))\n",
    "\n",
    "plt.fill_between(X_test[::99], lower[::99], upper[::99], interpolate = True, \n",
    "                 alpha = 0.1, label = \"95% confidence interval\")\n",
    "plt.legend()"
   ]
  },
  {
   "cell_type": "markdown",
   "metadata": {},
   "source": [
    "### Observations\n",
    "\n",
    " * Where data exists, the confidence intervals aren't very good since dropout doesn't seem to produce neural nets with very different predictions - even though there is a lot of noise.\n",
    "\n",
    " * The main benefit seems to be in quantifying uncertainty on predictions made with data that is outside the range of the training data.\n",
    " \n",
    " * Quantifying the uncertainty when making predictions within \"holes\" in the original data, ie areas which are surrounded by data, but themselves contain no data, is also hard for MC dropout. The neural nets tend to just connect adjacent points with a line, no matter how far apart those points are."
   ]
  },
  {
   "cell_type": "code",
   "execution_count": null,
   "metadata": {},
   "outputs": [],
   "source": []
  }
 ],
 "metadata": {
  "kernelspec": {
   "display_name": "Python 3",
   "language": "python",
   "name": "python3"
  },
  "language_info": {
   "codemirror_mode": {
    "name": "ipython",
    "version": 3
   },
   "file_extension": ".py",
   "mimetype": "text/x-python",
   "name": "python",
   "nbconvert_exporter": "python",
   "pygments_lexer": "ipython3",
   "version": "3.7.4"
  }
 },
 "nbformat": 4,
 "nbformat_minor": 2
}
