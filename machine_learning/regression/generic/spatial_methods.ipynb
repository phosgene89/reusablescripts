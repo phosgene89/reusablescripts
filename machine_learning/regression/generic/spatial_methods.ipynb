{
 "cells": [
  {
   "cell_type": "markdown",
   "metadata": {},
   "source": [
    "# Spatial Inference"
   ]
  },
  {
   "cell_type": "code",
   "execution_count": 98,
   "metadata": {},
   "outputs": [],
   "source": [
    "import numpy as np\n",
    "import pandas as pd\n",
    "import matplotlib.pyplot as plt\n",
    "from sklearn.model_selection import cross_val_score\n",
    "from sklearn.tree import DecisionTreeRegressor\n",
    "from sklearn.ensemble import RandomForestRegressor\n",
    "from sklearn.neighbors import KNeighborsRegressor\n",
    "import tensorflow as tf\n",
    "import tensorflow.keras as K"
   ]
  },
  {
   "cell_type": "code",
   "execution_count": 64,
   "metadata": {},
   "outputs": [],
   "source": [
    "n = 5000\n",
    "\n",
    "# Generate data\n",
    "df = pd.DataFrame()\n",
    "df['latitude'] = np.random.uniform(145, 148, n)\n",
    "df['longitude'] = np.random.uniform(155, 157, n)\n",
    "df['cts_occupancy'] = np.abs(np.sin(df.latitude*df.latitude) + np.sin(df.longitude) + np.cos(df.latitude*df.longitude)) + np.random.normal(0,0.2,n)\n",
    "df['cts_occupancy'] = (df['cts_occupancy'] - df['cts_occupancy'].min())/(df['cts_occupancy'].max() - df['cts_occupancy'].min())\n",
    "\n",
    "X = df[['latitude', 'longitude']].values\n",
    "y = df['cts_occupancy'].values"
   ]
  },
  {
   "cell_type": "markdown",
   "metadata": {},
   "source": [
    "### Decision Tree"
   ]
  },
  {
   "cell_type": "code",
   "execution_count": 85,
   "metadata": {},
   "outputs": [
    {
     "name": "stdout",
     "output_type": "stream",
     "text": [
      "Decision tree RMSE: 0.2714980743241343\n"
     ]
    }
   ],
   "source": [
    "regressor = DecisionTreeRegressor(random_state=0)\n",
    "cv_scores = cross_val_score(regressor, X, y, cv=20, scoring = 'neg_mean_squared_error')\n",
    "print(\"Decision tree RMSE: {}\".format(np.sqrt(-np.mean(cv_scores))))"
   ]
  },
  {
   "cell_type": "markdown",
   "metadata": {},
   "source": [
    "### Random Forest"
   ]
  },
  {
   "cell_type": "code",
   "execution_count": 84,
   "metadata": {},
   "outputs": [
    {
     "name": "stderr",
     "output_type": "stream",
     "text": [
      "C:\\Users\\Greg\\Anaconda3\\lib\\site-packages\\sklearn\\ensemble\\forest.py:245: FutureWarning: The default value of n_estimators will change from 10 in version 0.20 to 100 in 0.22.\n",
      "  \"10 in version 0.20 to 100 in 0.22.\", FutureWarning)\n"
     ]
    },
    {
     "name": "stdout",
     "output_type": "stream",
     "text": [
      "Random Forest RMSE: 0.21382655817054746\n"
     ]
    }
   ],
   "source": [
    "regr = RandomForestRegressor(max_depth=400, random_state=0)\n",
    "regr.fit(X, y)\n",
    "cv_scores = cross_val_score(regr, X, y, cv=20, scoring = 'neg_mean_squared_error')\n",
    "print(\"Random Forest RMSE: {}\".format(np.sqrt(-np.mean(cv_scores))))"
   ]
  },
  {
   "cell_type": "markdown",
   "metadata": {},
   "source": [
    "### Inverse-Distance Weighting (IDW)"
   ]
  },
  {
   "cell_type": "code",
   "execution_count": 97,
   "metadata": {},
   "outputs": [
    {
     "name": "stdout",
     "output_type": "stream",
     "text": [
      "IDW RMSE: 0.21836279588572083\n"
     ]
    }
   ],
   "source": [
    "idw = KNeighborsRegressor(n_neighbors=5, weights = 'distance')\n",
    "idw.fit(X, y)\n",
    "\n",
    "cv_scores = cross_val_score(idw, X, y, cv=20, scoring = 'neg_mean_squared_error')\n",
    "print(\"IDW RMSE: {}\".format(np.sqrt(-np.mean(cv_scores))))"
   ]
  },
  {
   "cell_type": "markdown",
   "metadata": {},
   "source": [
    "### k-NN"
   ]
  },
  {
   "cell_type": "code",
   "execution_count": 89,
   "metadata": {},
   "outputs": [
    {
     "name": "stdout",
     "output_type": "stream",
     "text": [
      "k-NN RMSE: 0.22896591952824916\n"
     ]
    }
   ],
   "source": [
    "knn = KNeighborsRegressor(n_neighbors=3)\n",
    "knn.fit(X, y)\n",
    "\n",
    "cv_scores = cross_val_score(knn, X, y, cv=20, scoring = 'neg_mean_squared_error')\n",
    "print(\"k-NN RMSE: {}\".format(np.sqrt(-np.mean(cv_scores))))"
   ]
  },
  {
   "cell_type": "markdown",
   "metadata": {},
   "source": [
    "### MLP"
   ]
  },
  {
   "cell_type": "code",
   "execution_count": 99,
   "metadata": {},
   "outputs": [],
   "source": [
    "def get_dropout(input_tensor, p=0.5, mc=False):\n",
    "    if mc:\n",
    "        return K.layers.Dropout(p)(input_tensor, training=True)\n",
    "    else:\n",
    "        return K.layers.Dropout(p)(input_tensor)"
   ]
  },
  {
   "cell_type": "markdown",
   "metadata": {},
   "source": [
    "Train/val/test split as cross-validation is too intensive for a neural net."
   ]
  },
  {
   "cell_type": "code",
   "execution_count": 127,
   "metadata": {},
   "outputs": [],
   "source": [
    "n_train = 4500\n",
    "\n",
    "X_train = X[0:n_train]\n",
    "y_train = y[0:n_train]\n",
    "\n",
    "X_val = X[n_train:n_train+500]\n",
    "y_val = y[n_train:n_train+500]\n",
    "\n",
    "X_test = X[n_train+500:]\n",
    "y_test = y[n_train+500:] "
   ]
  },
  {
   "cell_type": "code",
   "execution_count": 121,
   "metadata": {},
   "outputs": [],
   "source": [
    "drop_rate = 0.2\n",
    "mc = True\n",
    "units = 1028\n",
    "\n",
    "inputs = K.layers.Input(shape=(2,))\n",
    "\n",
    "output_1 = K.layers.Dense(units, activation='relu')(inputs)\n",
    "drop_1 = get_dropout(output_1, p=drop_rate, mc=mc)\n",
    "\n",
    "output_2 = K.layers.Dense(units//2, activation='relu')(drop_1)\n",
    "drop_2 = get_dropout(output_2, p=drop_rate, mc=mc)\n",
    "\n",
    "predictions = K.layers.Dense(1)(drop_2)"
   ]
  },
  {
   "cell_type": "code",
   "execution_count": 128,
   "metadata": {},
   "outputs": [
    {
     "name": "stdout",
     "output_type": "stream",
     "text": [
      "Train on 4500 samples, validate on 500 samples\n",
      "Epoch 1/50\n",
      "4500/4500 [==============================] - 1s 254us/sample - loss: 0.0394 - val_loss: 0.0416\n",
      "Epoch 2/50\n",
      "4500/4500 [==============================] - 1s 112us/sample - loss: 0.0394 - val_loss: 0.0415\n",
      "Epoch 3/50\n",
      "4500/4500 [==============================] - 1s 111us/sample - loss: 0.0394 - val_loss: 0.0414\n",
      "Epoch 4/50\n",
      "4500/4500 [==============================] - 1s 116us/sample - loss: 0.0394 - val_loss: 0.0415\n",
      "Epoch 5/50\n",
      "4500/4500 [==============================] - 1s 117us/sample - loss: 0.0395 - val_loss: 0.0423\n",
      "Epoch 6/50\n",
      "4500/4500 [==============================] - 1s 122us/sample - loss: 0.0394 - val_loss: 0.0416\n",
      "Epoch 7/50\n",
      "4500/4500 [==============================] - 1s 119us/sample - loss: 0.0395 - val_loss: 0.0414\n",
      "Epoch 8/50\n",
      "4500/4500 [==============================] - 1s 118us/sample - loss: 0.0394 - val_loss: 0.0415\n",
      "Epoch 9/50\n",
      "4500/4500 [==============================] - 1s 118us/sample - loss: 0.0394 - val_loss: 0.0415\n",
      "Epoch 10/50\n",
      "4500/4500 [==============================] - 1s 117us/sample - loss: 0.0394 - val_loss: 0.0416\n",
      "Epoch 11/50\n",
      "4500/4500 [==============================] - 1s 116us/sample - loss: 0.0394 - val_loss: 0.0415\n",
      "Epoch 12/50\n",
      "4500/4500 [==============================] - 1s 112us/sample - loss: 0.0394 - val_loss: 0.0415\n",
      "Epoch 13/50\n",
      "4500/4500 [==============================] - 1s 120us/sample - loss: 0.0394 - val_loss: 0.0415\n",
      "Epoch 14/50\n",
      "4500/4500 [==============================] - 1s 116us/sample - loss: 0.0397 - val_loss: 0.0414\n",
      "Epoch 15/50\n",
      "4500/4500 [==============================] - 1s 117us/sample - loss: 0.0395 - val_loss: 0.0416\n",
      "Epoch 16/50\n",
      "4500/4500 [==============================] - 0s 111us/sample - loss: 0.0395 - val_loss: 0.0417\n",
      "Epoch 17/50\n",
      "4500/4500 [==============================] - 1s 114us/sample - loss: 0.0394 - val_loss: 0.0414\n",
      "Epoch 18/50\n",
      "4500/4500 [==============================] - 1s 114us/sample - loss: 0.0394 - val_loss: 0.0414\n",
      "Epoch 19/50\n",
      "4500/4500 [==============================] - 1s 115us/sample - loss: 0.0394 - val_loss: 0.0416\n",
      "Epoch 20/50\n",
      "4500/4500 [==============================] - 1s 119us/sample - loss: 0.0411 - val_loss: 0.0419\n",
      "Epoch 21/50\n",
      "4500/4500 [==============================] - 1s 116us/sample - loss: 0.0395 - val_loss: 0.0414\n",
      "Epoch 22/50\n",
      "4500/4500 [==============================] - 1s 114us/sample - loss: 0.0394 - val_loss: 0.0417\n",
      "Epoch 23/50\n",
      "4500/4500 [==============================] - 1s 115us/sample - loss: 0.0396 - val_loss: 0.0414\n",
      "Epoch 24/50\n",
      "4500/4500 [==============================] - 1s 130us/sample - loss: 0.0395 - val_loss: 0.0415\n",
      "Epoch 25/50\n",
      "4500/4500 [==============================] - 1s 121us/sample - loss: 0.0395 - val_loss: 0.0414\n",
      "Epoch 26/50\n",
      "4500/4500 [==============================] - ETA: 0s - loss: 0.039 - 0s 110us/sample - loss: 0.0394 - val_loss: 0.0415\n",
      "Epoch 27/50\n",
      "4500/4500 [==============================] - 0s 109us/sample - loss: 0.0394 - val_loss: 0.0414\n",
      "Epoch 28/50\n",
      "4500/4500 [==============================] - 0s 109us/sample - loss: 0.0394 - val_loss: 0.0415\n",
      "Epoch 29/50\n",
      "4500/4500 [==============================] - 0s 108us/sample - loss: 0.0394 - val_loss: 0.0415\n",
      "Epoch 30/50\n",
      "4500/4500 [==============================] - 0s 109us/sample - loss: 0.0394 - val_loss: 0.0415\n",
      "Epoch 31/50\n",
      "4500/4500 [==============================] - 0s 110us/sample - loss: 0.0394 - val_loss: 0.0415\n",
      "Epoch 32/50\n",
      "4500/4500 [==============================] - 0s 108us/sample - loss: 0.0394 - val_loss: 0.0417\n",
      "Epoch 33/50\n",
      "4500/4500 [==============================] - 0s 109us/sample - loss: 0.0394 - val_loss: 0.0415\n",
      "Epoch 34/50\n",
      "4500/4500 [==============================] - 0s 107us/sample - loss: 0.0394 - val_loss: 0.0414\n",
      "Epoch 35/50\n",
      "4500/4500 [==============================] - 0s 108us/sample - loss: 0.0394 - val_loss: 0.0415\n",
      "Epoch 36/50\n",
      "4500/4500 [==============================] - 0s 107us/sample - loss: 0.0394 - val_loss: 0.0415\n",
      "Epoch 37/50\n",
      "4500/4500 [==============================] - 1s 113us/sample - loss: 0.0394 - val_loss: 0.0415\n",
      "Epoch 38/50\n",
      "4500/4500 [==============================] - 0s 108us/sample - loss: 0.0397 - val_loss: 0.0414\n",
      "Epoch 39/50\n",
      "4500/4500 [==============================] - 0s 107us/sample - loss: 0.0394 - val_loss: 0.0415\n",
      "Epoch 40/50\n",
      "4500/4500 [==============================] - 0s 107us/sample - loss: 0.0394 - val_loss: 0.0417\n",
      "Epoch 41/50\n",
      "4500/4500 [==============================] - 0s 108us/sample - loss: 0.0395 - val_loss: 0.0414\n",
      "Epoch 42/50\n",
      "4500/4500 [==============================] - 0s 108us/sample - loss: 0.0394 - val_loss: 0.0415\n",
      "Epoch 43/50\n",
      "4500/4500 [==============================] - 0s 109us/sample - loss: 0.0394 - val_loss: 0.0415\n",
      "Epoch 44/50\n",
      "4500/4500 [==============================] - 0s 110us/sample - loss: 0.0395 - val_loss: 0.0415\n",
      "Epoch 45/50\n",
      "4500/4500 [==============================] - 1s 117us/sample - loss: 0.0394 - val_loss: 0.0415\n",
      "Epoch 46/50\n",
      "4500/4500 [==============================] - 1s 118us/sample - loss: 0.0394 - val_loss: 0.0416\n",
      "Epoch 47/50\n",
      "4500/4500 [==============================] - 1s 112us/sample - loss: 0.0394 - val_loss: 0.0415\n",
      "Epoch 48/50\n",
      "4500/4500 [==============================] - 1s 116us/sample - loss: 0.0394 - val_loss: 0.0416\n",
      "Epoch 49/50\n",
      "4500/4500 [==============================] - 0s 110us/sample - loss: 0.0394 - val_loss: 0.0414\n",
      "Epoch 50/50\n",
      "4500/4500 [==============================] - 1s 115us/sample - loss: 0.0394 - val_loss: 0.0415\n"
     ]
    },
    {
     "data": {
      "text/plain": [
       "<tensorflow.python.keras.callbacks.History at 0x1c66c341a08>"
      ]
     },
     "execution_count": 128,
     "metadata": {},
     "output_type": "execute_result"
    }
   ],
   "source": [
    "sgd = K.optimizers.SGD(lr=0.01, decay=1e-6, momentum=0.9, nesterov=True)\n",
    "\n",
    "model = K.Model(inputs=inputs, outputs=predictions)\n",
    "model.compile(optimizer='adam',\n",
    "              loss='mse',\n",
    "             batch_size = 32)\n",
    "model.fit(X_train, y_train, validation_data = (X_val, y_val), epochs = 50)"
   ]
  },
  {
   "cell_type": "code",
   "execution_count": null,
   "metadata": {},
   "outputs": [],
   "source": [
    "preds = model.predict(X_test)\n",
    "mse = np.mean((y_test - preds)**2)\n",
    "rmse = np.sqrt(mse)\n",
    "\n",
    "print(\"MLP test RMSE: {}\".format(rmse))"
   ]
  },
  {
   "cell_type": "code",
   "execution_count": null,
   "metadata": {},
   "outputs": [],
   "source": []
  },
  {
   "cell_type": "code",
   "execution_count": null,
   "metadata": {},
   "outputs": [],
   "source": []
  },
  {
   "cell_type": "code",
   "execution_count": null,
   "metadata": {},
   "outputs": [],
   "source": []
  }
 ],
 "metadata": {
  "kernelspec": {
   "display_name": "Python 3",
   "language": "python",
   "name": "python3"
  },
  "language_info": {
   "codemirror_mode": {
    "name": "ipython",
    "version": 3
   },
   "file_extension": ".py",
   "mimetype": "text/x-python",
   "name": "python",
   "nbconvert_exporter": "python",
   "pygments_lexer": "ipython3",
   "version": "3.7.4"
  }
 },
 "nbformat": 4,
 "nbformat_minor": 2
}
