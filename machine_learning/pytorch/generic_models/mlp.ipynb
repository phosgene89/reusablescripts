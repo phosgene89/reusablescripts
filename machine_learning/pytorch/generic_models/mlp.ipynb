{
 "cells": [
  {
   "cell_type": "markdown",
   "metadata": {},
   "source": [
    "### PyTorch MLP"
   ]
  },
  {
   "cell_type": "code",
   "execution_count": 72,
   "metadata": {},
   "outputs": [],
   "source": [
    "from sklearn.datasets import make_blobs\n",
    "import torch \n",
    "from torch.utils.data import Dataset\n",
    "from torch.utils.data import DataLoader\n",
    "import numpy as np"
   ]
  },
  {
   "cell_type": "code",
   "execution_count": 73,
   "metadata": {},
   "outputs": [],
   "source": [
    "batch_size = 8"
   ]
  },
  {
   "cell_type": "code",
   "execution_count": 74,
   "metadata": {},
   "outputs": [],
   "source": [
    "def blob_label(y, label, loc): # assign labels\n",
    "    \n",
    "    target = np.copy(y)\n",
    "    \n",
    "    for l in loc:\n",
    "        target[y == l] = label\n",
    "        \n",
    "    return target"
   ]
  },
  {
   "cell_type": "code",
   "execution_count": 75,
   "metadata": {},
   "outputs": [],
   "source": [
    "x_train, y_train = make_blobs(n_samples=40, n_features=2, cluster_std=1.5, shuffle=True)\n",
    "x_train = torch.FloatTensor(x_train)\n",
    "y_train = torch.FloatTensor(blob_label(y_train, 0, [0]))\n",
    "y_train = torch.FloatTensor(blob_label(y_train, 1, [1,2,3]))\n",
    "\n",
    "x_test, y_test = make_blobs(n_samples=10, n_features=2, cluster_std=1.5, shuffle=True)\n",
    "x_test = torch.FloatTensor(x_test)\n",
    "y_test = torch.FloatTensor(blob_label(y_test, 0, [0]))\n",
    "y_test = torch.FloatTensor(blob_label(y_test, 1, [1,2,3]))"
   ]
  },
  {
   "cell_type": "code",
   "execution_count": 76,
   "metadata": {},
   "outputs": [],
   "source": [
    "class TabularDataset(Dataset):\n",
    "    \n",
    "    \"\"\"Generic dataset class for tabular data.\n",
    "    \"\"\"\n",
    "    \n",
    "    def __init__(self, X, y):\n",
    "        self.X = X\n",
    "        self.y = y\n",
    "\n",
    "    def __len__(self):\n",
    "        return len(self.X)\n",
    "\n",
    "    def __getitem__(self, idx):\n",
    "        return self.X[idx], self.y[idx]"
   ]
  },
  {
   "cell_type": "code",
   "execution_count": 77,
   "metadata": {},
   "outputs": [],
   "source": [
    "dataset = TabularDataset(x_train, y_train)\n",
    "dataloader = DataLoader(dataset, batch_size=batch_size, shuffle=True, num_workers=2)    "
   ]
  },
  {
   "cell_type": "code",
   "execution_count": 78,
   "metadata": {},
   "outputs": [],
   "source": [
    "class Feedforward(torch.nn.Module):\n",
    "\n",
    "    def __init__(self, input_size, hidden_size):\n",
    "        super(Feedforward, self).__init__()\n",
    "        self.input_size = input_size\n",
    "        self.hidden_size  = hidden_size\n",
    "        self.fc1 = torch.nn.Linear(self.input_size, self.hidden_size)\n",
    "        self.relu = torch.nn.ReLU()\n",
    "        self.fc2 = torch.nn.Linear(self.hidden_size, 1)\n",
    "        self.sigmoid = torch.nn.Sigmoid()        \n",
    "        \n",
    "    def forward(self, x):\n",
    "        hidden = self.fc1(x)\n",
    "        relu = self.relu(hidden)\n",
    "        output = self.fc2(relu)\n",
    "        output = self.sigmoid(output)\n",
    "        return output"
   ]
  },
  {
   "cell_type": "code",
   "execution_count": 79,
   "metadata": {},
   "outputs": [],
   "source": [
    "model = Feedforward(2, 10)\n",
    "criterion = torch.nn.BCELoss()\n",
    "optimizer = torch.optim.SGD(model.parameters(), lr = 0.01)"
   ]
  },
  {
   "cell_type": "code",
   "execution_count": 80,
   "metadata": {},
   "outputs": [
    {
     "name": "stdout",
     "output_type": "stream",
     "text": [
      "Test loss before training 0.33175915479660034\n"
     ]
    }
   ],
   "source": [
    "model.eval()\n",
    "y_pred = model(x_test)\n",
    "before_train = criterion(y_pred.squeeze(), y_test)\n",
    "print('Test loss before training' , before_train.item())"
   ]
  },
  {
   "cell_type": "code",
   "execution_count": 85,
   "metadata": {},
   "outputs": [
    {
     "name": "stdout",
     "output_type": "stream",
     "text": [
      "Epoch 0: train loss: 0.04980311542749405\n",
      "Epoch 1: train loss: 0.04970930889248848\n",
      "Epoch 2: train loss: 0.049616117030382156\n",
      "Epoch 3: train loss: 0.049523480236530304\n",
      "Epoch 4: train loss: 0.04943143576383591\n",
      "Epoch 5: train loss: 0.04933997988700867\n",
      "Epoch 6: train loss: 0.049249060451984406\n",
      "Epoch 7: train loss: 0.04915871098637581\n",
      "Epoch 8: train loss: 0.049068938940763474\n",
      "Epoch 9: train loss: 0.04897967353463173\n",
      "Epoch 10: train loss: 0.04889099299907684\n",
      "Epoch 11: train loss: 0.04880281910300255\n",
      "Epoch 12: train loss: 0.04871521145105362\n",
      "Epoch 13: train loss: 0.048628102988004684\n",
      "Epoch 14: train loss: 0.048541538417339325\n",
      "Epoch 15: train loss: 0.048455484211444855\n",
      "Epoch 16: train loss: 0.04836992546916008\n",
      "Epoch 17: train loss: 0.04828489199280739\n",
      "Epoch 18: train loss: 0.048200350254774094\n",
      "Epoch 19: train loss: 0.048116303980350494\n"
     ]
    }
   ],
   "source": [
    "model.train() # Set the model to 'train' mode\n",
    "epoch = 20\n",
    "\n",
    "for epoch in range(epoch):    \n",
    "    \n",
    "    for batch in dataloader:\n",
    "        \n",
    "        x_batch, y_batch = batch[0], batch[1]\n",
    "    \n",
    "        # Forward pass\n",
    "        optimizer.zero_grad()      # Remove gradients from prev passes\n",
    "        y_pred = model(x_train)    # Compute loss\n",
    "        loss = criterion(y_pred.squeeze(), y_train)\n",
    "   \n",
    "        # Backward pass\n",
    "        loss.backward() # Backprop\n",
    "        optimizer.step() # Update params\n",
    "        \n",
    "    print('Epoch {}: train loss: {}'.format(epoch, loss.item()))    "
   ]
  },
  {
   "cell_type": "code",
   "execution_count": 86,
   "metadata": {},
   "outputs": [
    {
     "name": "stdout",
     "output_type": "stream",
     "text": [
      "Test loss after Training 0.03833035007119179\n"
     ]
    }
   ],
   "source": [
    "model.eval() # Set the model to evaluate mode\n",
    "y_pred = model(x_test)\n",
    "after_train = criterion(y_pred.squeeze(), y_test) \n",
    "\n",
    "print('Test loss after Training' , after_train.item())"
   ]
  },
  {
   "cell_type": "code",
   "execution_count": null,
   "metadata": {},
   "outputs": [],
   "source": []
  },
  {
   "cell_type": "code",
   "execution_count": null,
   "metadata": {},
   "outputs": [],
   "source": []
  }
 ],
 "metadata": {
  "kernelspec": {
   "display_name": "Python 3",
   "language": "python",
   "name": "python3"
  },
  "language_info": {
   "codemirror_mode": {
    "name": "ipython",
    "version": 3
   },
   "file_extension": ".py",
   "mimetype": "text/x-python",
   "name": "python",
   "nbconvert_exporter": "python",
   "pygments_lexer": "ipython3",
   "version": "3.6.9"
  }
 },
 "nbformat": 4,
 "nbformat_minor": 2
}
